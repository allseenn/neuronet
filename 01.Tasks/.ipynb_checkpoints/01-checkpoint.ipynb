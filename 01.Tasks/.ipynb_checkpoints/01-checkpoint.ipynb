{
 "cells": [
  {
   "cell_type": "markdown",
   "id": "ac2e49c5-923a-47eb-8116-79975c30531d",
   "metadata": {},
   "source": [
    "# Урок 1. Основы обучения нейронных сетей"
   ]
  },
  {
   "cell_type": "markdown",
   "id": "fb77d583-d980-4a62-aac6-4f576e61c6ce",
   "metadata": {},
   "source": [
    "## 1.1. Нейроны"
   ]
  },
  {
   "cell_type": "markdown",
   "id": "87815ef0-0ae7-4c52-b75e-b6b48d997689",
   "metadata": {},
   "source": [
    "<img src=pics/01.png>\n",
    "\n",
    "1. Значения входов умножаются на веса:\n",
    "\n",
    "    $x_1 \\rightarrow x_1 \\times w_1$, $x_2 \\rightarrow x_2 \\times w_2$\n",
    "\n",
    "2. Взвешенные входы складываются, и к ним прибавляется значение порога b:\n",
    "\n",
    "    $x_1 \\times w_1 + x_2 \\times w_2 + b$\n",
    "\n",
    "3. Полученная сумма проходит через функцию активации:\n",
    "   \n",
    "    $y=f(x_1 \\times w_1 + x_2 \\times w_2 + b)$"
   ]
  },
  {
   "cell_type": "markdown",
   "id": "a27a2c99-393f-458f-a7d4-6d2c4be21ef7",
   "metadata": {},
   "source": [
    "### Пример математический"
   ]
  },
  {
   "cell_type": "markdown",
   "id": "62486af7-26d3-42da-ba71-55a92732b2d5",
   "metadata": {},
   "source": [
    "- Веса (в векторном виде): $w = [0,1]$\n",
    "- Порог: $b = 4$\n",
    "- Входные данные: $x=[2,3]$\n",
    "\n",
    "  Скалярное произведение векторов:\n",
    "  $$(w \\cdot x) + b = ((w_1 \\times x_1) + (w_2 \\times x_2)) + b = 0 \\times 2 + 1 \\times 3 + 4 = 7$$\n",
    "\n",
    "  Сигмоидная функция:\n",
    "  $$y=f(w\\cdot x+b)=f(7)\\approx  0.999 $$"
   ]
  },
  {
   "cell_type": "markdown",
   "id": "431d9d99-1d89-446d-afeb-f4ab6cc6198c",
   "metadata": {},
   "source": [
    "### Пример на пайтоне"
   ]
  },
  {
   "cell_type": "code",
   "execution_count": 1,
   "id": "09e85b5b-b040-4fdb-970e-c8b4238ccb60",
   "metadata": {},
   "outputs": [],
   "source": [
    "import numpy as np"
   ]
  },
  {
   "cell_type": "code",
   "execution_count": 2,
   "id": "509f0b18-bb2c-4182-9916-d54cfad82e44",
   "metadata": {},
   "outputs": [],
   "source": [
    "def sigmoid(x):\n",
    "  # Наша функция активации: f(x) = 1 / (1 + e^(-x))\n",
    "  return 1 / (1 + np.exp(-x))"
   ]
  },
  {
   "cell_type": "code",
   "execution_count": 3,
   "id": "863f6ba7-eb11-4993-a419-2266e1deb8fc",
   "metadata": {},
   "outputs": [
    {
     "name": "stdout",
     "output_type": "stream",
     "text": [
      "0.9990889488055994\n"
     ]
    }
   ],
   "source": [
    "class Neuron:\n",
    "  def __init__(self, weights, bias):\n",
    "    self.weights = weights\n",
    "    self.bias = bias\n",
    "\n",
    "  def feedforward(self, inputs):\n",
    "    # Умножаем входы на веса, прибавляем порог, затем используем функцию активации\n",
    "    total = np.dot(self.weights, inputs) + self.bias\n",
    "    return sigmoid(total)\n",
    "\n",
    "weights = np.array([0, 1]) # w1 = 0, w2 = 1\n",
    "bias = 4                   # b = 4\n",
    "n = Neuron(weights, bias)\n",
    "\n",
    "x = np.array([2, 3])       # x1 = 2, x2 = 3\n",
    "print(n.feedforward(x))    # 0.9990889488055994"
   ]
  },
  {
   "cell_type": "markdown",
   "id": "f605b0c3-6527-4f0f-8f1c-996efa6ba51f",
   "metadata": {},
   "source": [
    "2.2. ИНС"
   ]
  },
  {
   "cell_type": "markdown",
   "id": "b4a9076c-da50-417e-aef3-1d5aa5471e6d",
   "metadata": {},
   "source": [
    "<img src=pics\\02.png>"
   ]
  },
  {
   "cell_type": "code",
   "execution_count": null,
   "id": "bc401bf4-9086-46e1-9531-a53b5f93ce50",
   "metadata": {},
   "outputs": [],
   "source": []
  }
 ],
 "metadata": {
  "kernelspec": {
   "display_name": "Python 3 (ipykernel)",
   "language": "python",
   "name": "python3"
  },
  "language_info": {
   "codemirror_mode": {
    "name": "ipython",
    "version": 3
   },
   "file_extension": ".py",
   "mimetype": "text/x-python",
   "name": "python",
   "nbconvert_exporter": "python",
   "pygments_lexer": "ipython3",
   "version": "3.9.18"
  }
 },
 "nbformat": 4,
 "nbformat_minor": 5
}
