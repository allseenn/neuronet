{
 "cells": [
  {
   "cell_type": "markdown",
   "id": "ac2e49c5-923a-47eb-8116-79975c30531d",
   "metadata": {},
   "source": [
    "# Урок 1. Основы обучения нейронных сетей"
   ]
  },
  {
   "cell_type": "markdown",
   "id": "fb77d583-d980-4a62-aac6-4f576e61c6ce",
   "metadata": {},
   "source": [
    "## 1.1. Нейроны"
   ]
  },
  {
   "cell_type": "markdown",
   "id": "87815ef0-0ae7-4c52-b75e-b6b48d997689",
   "metadata": {},
   "source": [
    "<img src=pics/01.png>\n",
    "\n",
    "1. Значения входов умножаются на веса:\n",
    "\n",
    "    $x_1 \\rightarrow x_1 \\times w_1$, $x_2 \\rightarrow x_2 \\times w_2$\n",
    "\n",
    "2. Взвешенные входы складываются, и к ним прибавляется значение порога b:\n",
    "\n",
    "    $x_1 \\times w_1 + x_2 \\times w_2 + b$\n",
    "\n",
    "3. Полученная сумма проходит через функцию активации:\n",
    "   \n",
    "    $y=f(x_1 \\times w_1 + x_2 \\times w_2 + b)$"
   ]
  },
  {
   "cell_type": "markdown",
   "id": "a27a2c99-393f-458f-a7d4-6d2c4be21ef7",
   "metadata": {},
   "source": [
    "### Пример математический"
   ]
  },
  {
   "cell_type": "markdown",
   "id": "62486af7-26d3-42da-ba71-55a92732b2d5",
   "metadata": {},
   "source": [
    "- Веса (в векторном виде): $w = [0,1]$\n",
    "- Порог: $b = 4$\n",
    "- Входные данные: $x=[2,3]$\n",
    "\n",
    "  Скалярное произведение векторов:\n",
    "  $$(w \\cdot x) + b = ((w_1 \\times x_1) + (w_2 \\times x_2)) + b = 0 \\times 2 + 1 \\times 3 + 4 = 7$$\n",
    "\n",
    "  Сигмоидная функция:\n",
    "  $$y=f(w\\cdot x+b)=f(7)\\approx  0.999 $$"
   ]
  },
  {
   "cell_type": "markdown",
   "id": "431d9d99-1d89-446d-afeb-f4ab6cc6198c",
   "metadata": {},
   "source": [
    "### Пример на пайтоне"
   ]
  },
  {
   "cell_type": "code",
   "execution_count": null,
   "id": "09e85b5b-b040-4fdb-970e-c8b4238ccb60",
   "metadata": {},
   "outputs": [],
   "source": [
    "import numpy as np"
   ]
  },
  {
   "cell_type": "code",
   "execution_count": 2,
   "id": "509f0b18-bb2c-4182-9916-d54cfad82e44",
   "metadata": {},
   "outputs": [],
   "source": [
    "def sigmoid(x):\n",
    "  # Наша функция активации: f(x) = 1 / (1 + e^(-x))\n",
    "  return 1 / (1 + np.exp(-x))"
   ]
  },
  {
   "cell_type": "code",
   "execution_count": 3,
   "id": "863f6ba7-eb11-4993-a419-2266e1deb8fc",
   "metadata": {},
   "outputs": [
    {
     "name": "stdout",
     "output_type": "stream",
     "text": [
      "0.9990889488055994\n"
     ]
    }
   ],
   "source": [
    "class Neuron:\n",
    "  def __init__(self, weights, bias):\n",
    "    self.weights = weights\n",
    "    self.bias = bias\n",
    "\n",
    "  def feedforward(self, inputs):\n",
    "    # Умножаем входы на веса, прибавляем порог, затем используем функцию активации\n",
    "    total = np.dot(self.weights, inputs) + self.bias\n",
    "    return sigmoid(total)\n",
    "\n",
    "weights = np.array([0, 1]) # w1 = 0, w2 = 1\n",
    "bias = 4                   # b = 4\n",
    "n = Neuron(weights, bias)\n",
    "\n",
    "x = np.array([2, 3])       # x1 = 2, x2 = 3\n",
    "print(n.feedforward(x))    # 0.9990889488055994"
   ]
  },
  {
   "cell_type": "markdown",
   "id": "f605b0c3-6527-4f0f-8f1c-996efa6ba51f",
   "metadata": {},
   "source": [
    "## 1.2. ИНС"
   ]
  },
  {
   "cell_type": "markdown",
   "id": "bdfb9c19-6f23-480d-959b-cc6ce81ab815",
   "metadata": {},
   "source": [
    "### Пример математический"
   ]
  },
  {
   "cell_type": "markdown",
   "id": "b4a9076c-da50-417e-aef3-1d5aa5471e6d",
   "metadata": {},
   "source": [
    "<img src=pics/02.png>\n",
    "\n",
    "- Веса : $w = [0,1]$\n",
    "- Порог: $b = 0$\n",
    "- Входные данные: $x=[2,3]$\n",
    "- Выходы первого слоя: $h_1$, $h_2$\n",
    "- Выход последнего слоя: $o_1$\n",
    "\n",
    "  Скалярное произведение векторов через сигмоидную функцию:\n",
    "  $$h_1=h_2=f(w \\cdot x + b) = f((0 \\times 2) + (1*3) + 0) = f(3) \\approx 0.9526$$\n",
    "  $$o_1= f(w \\cdot [h_1,h_2] + b) = f((0\\times h_1) + (1\\times h_2)+0)=f(0.9526)\\approx 0.7216$$"
   ]
  },
  {
   "cell_type": "markdown",
   "id": "aafcd71f-8c65-41f5-b80f-ddbe94aceece",
   "metadata": {},
   "source": [
    "### Код на пайтоне"
   ]
  },
  {
   "cell_type": "code",
   "execution_count": 1,
   "id": "ab2298fa-4aa0-4376-9c89-6d40cd2c1058",
   "metadata": {},
   "outputs": [
    {
     "name": "stdout",
     "output_type": "stream",
     "text": [
      "0.7216325609518421\n"
     ]
    }
   ],
   "source": [
    "import numpy as np\n",
    "\n",
    "def sigmoid(x):\n",
    "  return 1 / (1 + np.exp(-x))\n",
    "\n",
    "class Neuron:\n",
    "  def __init__(self, weights, bias):\n",
    "    self.weights = weights\n",
    "    self.bias = bias\n",
    "\n",
    "  def feedforward(self, inputs):\n",
    "    total = np.dot(self.weights, inputs) + self.bias\n",
    "    return sigmoid(total)\n",
    "\n",
    "class OurNeuralNetwork:\n",
    "  '''\n",
    "  Нейронная сеть с:\n",
    "    - 2 входами\n",
    "    - скрытым слоем с 2 нейронами (h1, h2)\n",
    "    - выходным слоем с 1 нейроном (o1)\n",
    "  Все нейроны имеют одинаковые веса и пороги:\n",
    "    - w = [0, 1]\n",
    "    - b = 0\n",
    "  '''\n",
    "  def __init__(self):\n",
    "    weights = np.array([0, 1])\n",
    "    bias = 0\n",
    "\n",
    "    # Используем класс Neuron из предыдущего раздела\n",
    "    self.h1 = Neuron(weights, bias)\n",
    "    self.h2 = Neuron(weights, bias)\n",
    "    self.o1 = Neuron(weights, bias)\n",
    "\n",
    "  def feedforward(self, x):\n",
    "    out_h1 = self.h1.feedforward(x)\n",
    "    out_h2 = self.h2.feedforward(x)\n",
    "\n",
    "    # Входы для o1 - это выходы h1 и h2\n",
    "    out_o1 = self.o1.feedforward(np.array([out_h1, out_h2]))\n",
    "\n",
    "    return out_o1\n",
    "\n",
    "network = OurNeuralNetwork()\n",
    "x = np.array([2, 3])\n",
    "print(network.feedforward(x)) # 0.7216325609518421"
   ]
  },
  {
   "cell_type": "markdown",
   "id": "3f7c294d-df8d-49ac-993c-576778d6a5b7",
   "metadata": {},
   "source": [
    "## 1.3 Потери ИНС"
   ]
  },
  {
   "cell_type": "markdown",
   "id": "42746fa8-2e3b-4482-8044-972d20a67b7a",
   "metadata": {},
   "source": [
    "Допустим, у нас есть следующие измерения:\n",
    "<table>\n",
    "              <tr>\n",
    "                      <td><b>Имя</b></td>\n",
    "                      <td><b>Вес (в фунтах)</b></td>\n",
    "                      <td><b>Рост (в дюймах)</b></td>\n",
    "                      <td><b>Пол</b></td>\n",
    "                  </tr>\n",
    "              <tr>\n",
    "                      <td>Алиса</td>\n",
    "                      <td>133 (54.4 кг)</td>\n",
    "                      <td>65 (165,1 см)</td>\n",
    "                      <td>Ж</td>\n",
    "                  </tr>\n",
    "              <tr>\n",
    "                      <td>Боб</td>\n",
    "                      <td>160 (65,44 кг)</td>\n",
    "                      <td>72 (183 см)</td>\n",
    "                      <td>М</td>\n",
    "                  </tr>\n",
    "              <tr>\n",
    "                      <td>Чарли</td>\n",
    "                      <td>152 (62.2 кг)</td>\n",
    "                      <td>70 (178 см)</td>\n",
    "                      <td>М</td>\n",
    "                  </tr>\n",
    "              <tr>\n",
    "                      <td>Диана</td>\n",
    "                      <td>120 (49 кг)</td>\n",
    "                      <td>60 (152 см)</td>\n",
    "                      <td>Ж</td>\n",
    "                  </tr>\n",
    "</table>\n",
    "\n",
    "Обучим  ИНС предсказывать пол человека по росту и весу\n",
    "\n",
    "<img src=pics/03.png>\n",
    "\n",
    "Представим мужской пол как 0, женский – как 1, а также сдвинем данные, чтобы их было проще использовать:\n",
    "\n",
    "<table>\n",
    "                  <tr>\n",
    "                          <td><b>Имя</b></td>\n",
    "                          <td><b>Вес (минус 135)</b></td>\n",
    "                          <td><b>Рост (минус 66)</b></td>\n",
    "                          <td><b>Пол</b></td>\n",
    "                      </tr>\n",
    "                  <tr>\n",
    "                          <td>Алиса</td>\n",
    "                          <td>-2</td>\n",
    "                          <td>-1</td>\n",
    "                          <td>1</td>\n",
    "                      </tr>\n",
    "                  <tr>\n",
    "                          <td>Боб</td>\n",
    "                          <td>25</td>\n",
    "                          <td>6</td>\n",
    "                          <td>0</td>\n",
    "                      </tr>\n",
    "                  <tr>\n",
    "                          <td>Чарли</td>\n",
    "                          <td>17</td>\n",
    "                          <td>4</td>\n",
    "                          <td>0</td>\n",
    "                      </tr>\n",
    "                  <tr>\n",
    "                          <td>Диана</td>\n",
    "                          <td>-15</td>\n",
    "                          <td>-6</td>\n",
    "                          <td>1</td>\n",
    "                      </tr>   \n",
    "</table>\n",
    "\n",
    "Для расчета потерь используют среднюю квадратичную ошибку (mean squared error, MSE):\n",
    "\n",
    "$$MSE=\\frac{1}{n}\\sum_{i=1}^{n}(y_true-y_pred)^2$$\n",
    "\n",
    "- n – количество измерений, в нашем случае 4 (Алиса, Боб, Чарли и Диана).\n",
    "- y представляет предсказываемое значение, Пол.\n",
    "- $y_true$ – истинное значение переменной (\"правильный ответ\"). Например, для Алисы ytrue будет равна 1 (женский пол).\n",
    "- $y_pred$ – предсказанное значение переменной. Это то, что выдаст наша нейронная сеть.\n",
    "- $(y_true-y_pred)^2 - квадратичная ошибка"
   ]
  },
  {
   "cell_type": "markdown",
   "id": "751c26bd-5a73-47f3-b602-5224ff28b8e4",
   "metadata": {},
   "source": [
    "### Пример расчета потерь"
   ]
  },
  {
   "cell_type": "markdown",
   "id": "212ffdfc-fa09-4e93-a96e-bbc01db6b175",
   "metadata": {},
   "source": [
    "Предположим, ИНС всегда выдает 0 – иными словами, она уверена, что все люди мужчины.\n",
    "    \n",
    "<table>\n",
    "                  <tr>\n",
    "                          <td><b>Имя</b></td>\n",
    "                          <td><b>Ytrue</b></td>\n",
    "                          <td><b>Ypred</b></td>\n",
    "                          <td><b>(Ytrue-Ypred)^2</b></td>\n",
    "                      </tr>\n",
    "                  <tr>\n",
    "                          <td>Алиса</td>\n",
    "                          <td>1</td>\n",
    "                          <td>0</td>\n",
    "                          <td>1</td>\n",
    "                      </tr>\n",
    "                  <tr>\n",
    "                          <td>Боб</td>\n",
    "                          <td>0</td>\n",
    "                          <td>0</td>\n",
    "                          <td>0</td>\n",
    "                      </tr>\n",
    "                  <tr>\n",
    "                          <td>Чарли</td>\n",
    "                          <td>0</td>\n",
    "                          <td>0</td>\n",
    "                          <td>0</td>\n",
    "                      </tr>\n",
    "                  <tr>\n",
    "                          <td>Диана</td>\n",
    "                          <td>1</td>\n",
    "                          <td>0</td>\n",
    "                          <td>1</td>\n",
    "                      </tr>\n",
    "    </table>\n",
    "\n",
    "$$MSE=\\frac{1}{4}(1+0+0+1)=0.5$$"
   ]
  },
  {
   "cell_type": "markdown",
   "id": "9ce513e5-b2a2-4d84-80ed-b6cc7a83890c",
   "metadata": {},
   "source": [
    "### Функция потерь на пайтоне"
   ]
  },
  {
   "cell_type": "code",
   "execution_count": 4,
   "id": "7bed649f-715e-4124-9ffe-5bed201f8572",
   "metadata": {},
   "outputs": [
    {
     "name": "stdout",
     "output_type": "stream",
     "text": [
      "0.5\n"
     ]
    }
   ],
   "source": [
    "import numpy as np\n",
    "\n",
    "def mse_loss(y_true, y_pred):\n",
    "  # y_true и y_pred - массивы numpy одинаковой длины.\n",
    "  return ((y_true - y_pred) ** 2).mean()\n",
    "\n",
    "y_true = np.array([1, 0, 0, 1])\n",
    "y_pred = np.array([0, 0, 0, 0])\n",
    "\n",
    "print(mse_loss(y_true, y_pred)) # 0.5"
   ]
  },
  {
   "cell_type": "markdown",
   "id": "9f6a418b-5b5b-40b5-93d1-6b9061424d52",
   "metadata": {},
   "source": [
    "### 1.4 Обучение ИНС\n",
    "\n",
    "Если рассматривать, только Алису, то и квадратичная ошибка будет только для Алисы\n",
    "\n",
    "Но, есть более эффективной метод - функция потерь, как функция весов и порогов.\n",
    "\n",
    "Отметитим все веса и пороги ИНС:\n",
    "\n",
    "<img src=pics/04.png>\n",
    "\n",
    "Запишем функцию потерь как функцию от нескольких переменных:\n",
    "\n",
    "$$L(w_1,w_2,w_3,w_4,w_5,w_6,b_1,b_2,b_3)$$\n",
    "\n",
    "Предположим, хоим отрегулировать $w_1$. Как это повлияет на значение потери L?\n"
   ]
  },
  {
   "cell_type": "markdown",
   "id": "a476ff45-da5a-4dc0-bafb-1498301daff4",
   "metadata": {},
   "source": [
    "### Код ИНС"
   ]
  },
  {
   "cell_type": "code",
   "execution_count": 6,
   "id": "6b2f9258-1d5e-4871-b288-a90000cb9c03",
   "metadata": {},
   "outputs": [
    {
     "name": "stdout",
     "output_type": "stream",
     "text": [
      "Epoch 0 loss: 0.188\n",
      "Epoch 10 loss: 0.147\n",
      "Epoch 20 loss: 0.116\n",
      "Epoch 30 loss: 0.093\n",
      "Epoch 40 loss: 0.076\n",
      "Epoch 50 loss: 0.063\n",
      "Epoch 60 loss: 0.054\n",
      "Epoch 70 loss: 0.046\n",
      "Epoch 80 loss: 0.040\n",
      "Epoch 90 loss: 0.036\n",
      "Epoch 100 loss: 0.032\n",
      "Epoch 110 loss: 0.029\n",
      "Epoch 120 loss: 0.026\n",
      "Epoch 130 loss: 0.024\n",
      "Epoch 140 loss: 0.022\n",
      "Epoch 150 loss: 0.020\n",
      "Epoch 160 loss: 0.019\n",
      "Epoch 170 loss: 0.017\n",
      "Epoch 180 loss: 0.016\n",
      "Epoch 190 loss: 0.015\n",
      "Epoch 200 loss: 0.014\n",
      "Epoch 210 loss: 0.014\n",
      "Epoch 220 loss: 0.013\n",
      "Epoch 230 loss: 0.012\n",
      "Epoch 240 loss: 0.012\n",
      "Epoch 250 loss: 0.011\n",
      "Epoch 260 loss: 0.011\n",
      "Epoch 270 loss: 0.010\n",
      "Epoch 280 loss: 0.010\n",
      "Epoch 290 loss: 0.009\n",
      "Epoch 300 loss: 0.009\n",
      "Epoch 310 loss: 0.009\n",
      "Epoch 320 loss: 0.008\n",
      "Epoch 330 loss: 0.008\n",
      "Epoch 340 loss: 0.008\n",
      "Epoch 350 loss: 0.008\n",
      "Epoch 360 loss: 0.007\n",
      "Epoch 370 loss: 0.007\n",
      "Epoch 380 loss: 0.007\n",
      "Epoch 390 loss: 0.007\n",
      "Epoch 400 loss: 0.006\n",
      "Epoch 410 loss: 0.006\n",
      "Epoch 420 loss: 0.006\n",
      "Epoch 430 loss: 0.006\n",
      "Epoch 440 loss: 0.006\n",
      "Epoch 450 loss: 0.006\n",
      "Epoch 460 loss: 0.006\n",
      "Epoch 470 loss: 0.005\n",
      "Epoch 480 loss: 0.005\n",
      "Epoch 490 loss: 0.005\n",
      "Epoch 500 loss: 0.005\n",
      "Epoch 510 loss: 0.005\n",
      "Epoch 520 loss: 0.005\n",
      "Epoch 530 loss: 0.005\n",
      "Epoch 540 loss: 0.005\n",
      "Epoch 550 loss: 0.004\n",
      "Epoch 560 loss: 0.004\n",
      "Epoch 570 loss: 0.004\n",
      "Epoch 580 loss: 0.004\n",
      "Epoch 590 loss: 0.004\n",
      "Epoch 600 loss: 0.004\n",
      "Epoch 610 loss: 0.004\n",
      "Epoch 620 loss: 0.004\n",
      "Epoch 630 loss: 0.004\n",
      "Epoch 640 loss: 0.004\n",
      "Epoch 650 loss: 0.004\n",
      "Epoch 660 loss: 0.004\n",
      "Epoch 670 loss: 0.004\n",
      "Epoch 680 loss: 0.004\n",
      "Epoch 690 loss: 0.003\n",
      "Epoch 700 loss: 0.003\n",
      "Epoch 710 loss: 0.003\n",
      "Epoch 720 loss: 0.003\n",
      "Epoch 730 loss: 0.003\n",
      "Epoch 740 loss: 0.003\n",
      "Epoch 750 loss: 0.003\n",
      "Epoch 760 loss: 0.003\n",
      "Epoch 770 loss: 0.003\n",
      "Epoch 780 loss: 0.003\n",
      "Epoch 790 loss: 0.003\n",
      "Epoch 800 loss: 0.003\n",
      "Epoch 810 loss: 0.003\n",
      "Epoch 820 loss: 0.003\n",
      "Epoch 830 loss: 0.003\n",
      "Epoch 840 loss: 0.003\n",
      "Epoch 850 loss: 0.003\n",
      "Epoch 860 loss: 0.003\n",
      "Epoch 870 loss: 0.003\n",
      "Epoch 880 loss: 0.003\n",
      "Epoch 890 loss: 0.003\n",
      "Epoch 900 loss: 0.003\n",
      "Epoch 910 loss: 0.003\n",
      "Epoch 920 loss: 0.003\n",
      "Epoch 930 loss: 0.002\n",
      "Epoch 940 loss: 0.002\n",
      "Epoch 950 loss: 0.002\n",
      "Epoch 960 loss: 0.002\n",
      "Epoch 970 loss: 0.002\n",
      "Epoch 980 loss: 0.002\n",
      "Epoch 990 loss: 0.002\n"
     ]
    }
   ],
   "source": [
    "import numpy as np\n",
    "\n",
    "def sigmoid(x):\n",
    "  # Сигмоидная функция активации: f(x) = 1 / (1 + e^(-x))\n",
    "  return 1 / (1 + np.exp(-x))\n",
    "\n",
    "def deriv_sigmoid(x):\n",
    "  # Производная сигмоиды: f'(x) = f(x) * (1 - f(x))\n",
    "  fx = sigmoid(x)\n",
    "  return fx * (1 - fx)\n",
    "\n",
    "def mse_loss(y_true, y_pred):\n",
    "  # y_true и y_pred - массивы numpy одинаковой длины.\n",
    "  return ((y_true - y_pred) ** 2).mean()\n",
    "\n",
    "class OurNeuralNetwork:\n",
    "  '''\n",
    "  Нейронная сеть с:\n",
    "    - 2 входами\n",
    "    - скрытым слоем с 2 нейронами (h1, h2)\n",
    "    - выходной слой с 1 нейроном (o1)\n",
    "\n",
    "  *** DISCLAIMER ***:\n",
    "  Следующий код простой и обучающий, но НЕ оптимальный.\n",
    "  Код реальных нейронных сетей совсем на него не похож. НЕ копируйте его! \n",
    "  Изучайте и запускайте его, чтобы понять, как работает эта нейронная сеть.\n",
    "  '''\n",
    "  def __init__(self):\n",
    "    # Веса\n",
    "    self.w1 = np.random.normal()\n",
    "    self.w2 = np.random.normal()\n",
    "    self.w3 = np.random.normal()\n",
    "    self.w4 = np.random.normal()\n",
    "    self.w5 = np.random.normal()\n",
    "    self.w6 = np.random.normal()\n",
    "\n",
    "    # Пороги\n",
    "    self.b1 = np.random.normal()\n",
    "    self.b2 = np.random.normal()\n",
    "    self.b3 = np.random.normal()\n",
    "\n",
    "  def feedforward(self, x):\n",
    "    # x is a numpy array with 2 elements.\n",
    "    h1 = sigmoid(self.w1 * x[0] + self.w2 * x[1] + self.b1)\n",
    "    h2 = sigmoid(self.w3 * x[0] + self.w4 * x[1] + self.b2)\n",
    "    o1 = sigmoid(self.w5 * h1 + self.w6 * h2 + self.b3)\n",
    "    return o1\n",
    "\n",
    "  def train(self, data, all_y_trues):\n",
    "    '''\n",
    "    - data - массив numpy (n x 2) numpy, n = к-во наблюдений в наборе. \n",
    "    - all_y_trues - массив numpy с n элементами.\n",
    "      Элементы all_y_trues соответствуют наблюдениям в data.\n",
    "    '''\n",
    "    learn_rate = 0.1\n",
    "    epochs = 1000 # сколько раз пройти по всему набору данных \n",
    "\n",
    "    for epoch in range(epochs):\n",
    "      for x, y_true in zip(data, all_y_trues):\n",
    "        # --- Прямой проход (эти значения нам понадобятся позже)\n",
    "        sum_h1 = self.w1 * x[0] + self.w2 * x[1] + self.b1\n",
    "        h1 = sigmoid(sum_h1)\n",
    "\n",
    "        sum_h2 = self.w3 * x[0] + self.w4 * x[1] + self.b2\n",
    "        h2 = sigmoid(sum_h2)\n",
    "\n",
    "        sum_o1 = self.w5 * h1 + self.w6 * h2 + self.b3\n",
    "        o1 = sigmoid(sum_o1)\n",
    "        y_pred = o1\n",
    "\n",
    "        # --- Считаем частные производные.\n",
    "        # --- Имена: d_L_d_w1 = \"частная производная L по w1\"\n",
    "        d_L_d_ypred = -2 * (y_true - y_pred)\n",
    "\n",
    "        # Нейрон o1\n",
    "        d_ypred_d_w5 = h1 * deriv_sigmoid(sum_o1)\n",
    "        d_ypred_d_w6 = h2 * deriv_sigmoid(sum_o1)\n",
    "        d_ypred_d_b3 = deriv_sigmoid(sum_o1)\n",
    "\n",
    "        d_ypred_d_h1 = self.w5 * deriv_sigmoid(sum_o1)\n",
    "        d_ypred_d_h2 = self.w6 * deriv_sigmoid(sum_o1)\n",
    "\n",
    "        # Нейрон h1\n",
    "        d_h1_d_w1 = x[0] * deriv_sigmoid(sum_h1)\n",
    "        d_h1_d_w2 = x[1] * deriv_sigmoid(sum_h1)\n",
    "        d_h1_d_b1 = deriv_sigmoid(sum_h1)\n",
    "\n",
    "        # Нейрон h2\n",
    "        d_h2_d_w3 = x[0] * deriv_sigmoid(sum_h2)\n",
    "        d_h2_d_w4 = x[1] * deriv_sigmoid(sum_h2)\n",
    "        d_h2_d_b2 = deriv_sigmoid(sum_h2)\n",
    "\n",
    "        # --- Обновляем веса и пороги\n",
    "        # Нейрон h1\n",
    "        self.w1 -= learn_rate * d_L_d_ypred * d_ypred_d_h1 * d_h1_d_w1\n",
    "        self.w2 -= learn_rate * d_L_d_ypred * d_ypred_d_h1 * d_h1_d_w2\n",
    "        self.b1 -= learn_rate * d_L_d_ypred * d_ypred_d_h1 * d_h1_d_b1\n",
    "\n",
    "        # Нейрон h2\n",
    "        self.w3 -= learn_rate * d_L_d_ypred * d_ypred_d_h2 * d_h2_d_w3\n",
    "        self.w4 -= learn_rate * d_L_d_ypred * d_ypred_d_h2 * d_h2_d_w4\n",
    "        self.b2 -= learn_rate * d_L_d_ypred * d_ypred_d_h2 * d_h2_d_b2\n",
    "\n",
    "        # Нейрон o1\n",
    "        self.w5 -= learn_rate * d_L_d_ypred * d_ypred_d_w5\n",
    "        self.w6 -= learn_rate * d_L_d_ypred * d_ypred_d_w6\n",
    "        self.b3 -= learn_rate * d_L_d_ypred * d_ypred_d_b3\n",
    "\n",
    "      # --- Считаем полные потери в конце каждой эпохи\n",
    "      if epoch % 10 == 0:\n",
    "        y_preds = np.apply_along_axis(self.feedforward, 1, data)\n",
    "        loss = mse_loss(all_y_trues, y_preds)\n",
    "        print(\"Epoch %d loss: %.3f\" % (epoch, loss))\n",
    "\n",
    "# Определим набор данных\n",
    "data = np.array([\n",
    "  [-2, -1],  # Алиса\n",
    "  [25, 6],   # Боб\n",
    "  [17, 4],   # Чарли\n",
    "  [-15, -6], # Диана\n",
    "])\n",
    "all_y_trues = np.array([\n",
    "  1, # Алиса\n",
    "  0, # Боб\n",
    "  0, # Чарли\n",
    "  1, # Диана\n",
    "])\n",
    "\n",
    "# Обучаем нашу нейронную сеть!\n",
    "network = OurNeuralNetwork()\n",
    "network.train(data, all_y_trues)"
   ]
  },
  {
   "cell_type": "markdown",
   "id": "d2c67adb-14bb-4c3b-9221-aa9391563481",
   "metadata": {},
   "source": [
    "<img src=pics/05.png>"
   ]
  },
  {
   "cell_type": "markdown",
   "id": "1fd3e6d0-139c-4649-b3ee-c337287015ca",
   "metadata": {},
   "source": [
    "### Предсказание пола"
   ]
  },
  {
   "cell_type": "code",
   "execution_count": 7,
   "id": "a2a3bd23-f7e0-4ef6-8d58-f0c4f5d5bd01",
   "metadata": {},
   "outputs": [
    {
     "name": "stdout",
     "output_type": "stream",
     "text": [
      "Эмили: 0.947\n",
      "Фрэнк: 0.039\n"
     ]
    }
   ],
   "source": [
    "# Делаем пару предсказаний\n",
    "emily = np.array([-7, -3]) # 128 фунтов (52.35 кг), 63 дюйма (160 см)\n",
    "frank = np.array([20, 2])  # 155 pounds (63.4 кг), 68 inches (173 см)\n",
    "print(\"Эмили: %.3f\" % network.feedforward(emily)) # 0.951 - Ж\n",
    "print(\"Фрэнк: %.3f\" % network.feedforward(frank)) # 0.039 - М"
   ]
  },
  {
   "cell_type": "markdown",
   "id": "115ee01f-5488-47f6-8aa0-faaf2774d758",
   "metadata": {},
   "source": [
    "# Домашняя работа"
   ]
  },
  {
   "cell_type": "markdown",
   "id": "08eb9b0d-5b41-437e-b495-84043b68ff8e",
   "metadata": {},
   "source": [
    "ДЗ от меня - доделать НС с урока, добавить метод predict и проверить на своих собственных данных, оценить accuracy.\n",
    "\n",
    "Как вариант, опционально кто сможет для решения этих входных данных обучите НС mlpclassifier от sklearn.\n",
    "\n",
    "Сдача только через гитхаб либо ссылкой на блокнот Google Colab."
   ]
  },
  {
   "cell_type": "code",
   "execution_count": 38,
   "id": "8490c233-5701-414e-98f5-4dec342cc4a1",
   "metadata": {},
   "outputs": [
    {
     "data": {
      "text/plain": [
       "'Women'"
      ]
     },
     "execution_count": 38,
     "metadata": {},
     "output_type": "execute_result"
    }
   ],
   "source": [
    "def predict(weight, height):\n",
    "    # Переводим рост из сантиметров в футы\n",
    "    height_ft = height / 2.54\n",
    "    # Переводим вес из килограммов в фунты\n",
    "    weight_lb = weight * 2.448\n",
    "    #return weight_lb, height_ft\n",
    "    who = np.array([weight_lb-135, height_ft-66])\n",
    "    if network.feedforward(who) >= 0.5:\n",
    "        return 'Women'\n",
    "    else: \n",
    "        return 'Man'\n",
    "\n",
    "predict(77, 185)"
   ]
  }
 ],
 "metadata": {
  "kernelspec": {
   "display_name": "Python 3 (ipykernel)",
   "language": "python",
   "name": "python3"
  },
  "language_info": {
   "codemirror_mode": {
    "name": "ipython",
    "version": 3
   },
   "file_extension": ".py",
   "mimetype": "text/x-python",
   "name": "python",
   "nbconvert_exporter": "python",
   "pygments_lexer": "ipython3",
   "version": "3.9.18"
  }
 },
 "nbformat": 4,
 "nbformat_minor": 5
}
