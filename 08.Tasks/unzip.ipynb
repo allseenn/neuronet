{
 "cells": [
  {
   "cell_type": "code",
   "execution_count": null,
   "id": "454b8f69-5fe7-4e55-bd47-59c65910904c",
   "metadata": {},
   "outputs": [],
   "source": [
    "# Разархивация заданного zip-файла в заданную директорию на гугл-диске\n",
    "from google.colab import drive\n",
    "import zipfile\n",
    "import os\n",
    "# Задать имя папки куда положить разархивированные файлы\n",
    "dirname = 'steel'\n",
    "drive.mount('/content/drive')"
   ]
  },
  {
   "cell_type": "code",
   "execution_count": null,
   "id": "5839cbde-1d36-4c36-9e20-0e880fb420f3",
   "metadata": {},
   "outputs": [],
   "source": [
    "# Задать zip-файл\n",
    "filename = 'test.zip'\n",
    "zip_path = '/content/drive/MyDrive/'+filename\n",
    "with zipfile.ZipFile(zip_path, 'r') as zip_ref:\n",
    "    zip_ref.extractall('/content/drive/MyDrive/'+dirname)\n",
    "\n",
    "os.remove('/content/drive/MyDrive/'+filename)\n",
    "\n",
    "filename = '0.zip'\n",
    "zip_path = '/content/drive/MyDrive/'+filename\n",
    "with zipfile.ZipFile(zip_path, 'r') as zip_ref:\n",
    "    zip_ref.extractall('/content/drive/MyDrive/'+dirname)\n",
    "\n",
    "os.remove('/content/drive/MyDrive/'+filename)\n",
    "\n",
    "filename = '1.zip'\n",
    "zip_path = '/content/drive/MyDrive/'+filename\n",
    "with zipfile.ZipFile(zip_path, 'r') as zip_ref:\n",
    "    zip_ref.extractall('/content/drive/MyDrive/'+dirname)\n",
    "\n",
    "os.remove('/content/drive/MyDrive/'+filename)\n",
    "\n",
    "filename = '2.zip'\n",
    "zip_path = '/content/drive/MyDrive/'+filename\n",
    "with zipfile.ZipFile(zip_path, 'r') as zip_ref:\n",
    "    zip_ref.extractall('/content/drive/MyDrive/'+dirname)\n",
    "\n",
    "os.remove('/content/drive/MyDrive/'+filename)"
   ]
  },
  {
   "cell_type": "code",
   "execution_count": null,
   "id": "9b171e5d-eecd-483f-8d96-82fc42e68144",
   "metadata": {},
   "outputs": [],
   "source": [
    "# Просмотр сожержимого созданной папки, с разархивированными в нее файлами\n",
    "contents = os.listdir('/content/drive/MyDrive/'+dirname)\n",
    "\n",
    "for item in contents:\n",
    "    print(item)"
   ]
  }
 ],
 "metadata": {
  "kernelspec": {
   "display_name": "Python 3 (ipykernel)",
   "language": "python",
   "name": "python3"
  },
  "language_info": {
   "codemirror_mode": {
    "name": "ipython",
    "version": 3
   },
   "file_extension": ".py",
   "mimetype": "text/x-python",
   "name": "python",
   "nbconvert_exporter": "python",
   "pygments_lexer": "ipython3",
   "version": "3.9.18"
  }
 },
 "nbformat": 4,
 "nbformat_minor": 5
}
