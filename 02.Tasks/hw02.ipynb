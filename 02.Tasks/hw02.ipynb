{
 "cells": [
  {
   "cell_type": "code",
   "execution_count": 137,
   "id": "58d8d75d-3d35-4324-a721-d6eb527f127d",
   "metadata": {},
   "outputs": [
    {
     "name": "stdout",
     "output_type": "stream",
     "text": [
      "Epoch 1/50\n",
      "96/96 [==============================] - 2s 20ms/step - loss: 0.2446 - binary_accuracy: 0.9305 - val_loss: 0.1275 - val_binary_accuracy: 0.9709\n",
      "Epoch 2/50\n",
      "96/96 [==============================] - 2s 18ms/step - loss: 0.1074 - binary_accuracy: 0.9747 - val_loss: 0.0856 - val_binary_accuracy: 0.9804\n",
      "Epoch 3/50\n",
      "96/96 [==============================] - 2s 18ms/step - loss: 0.0813 - binary_accuracy: 0.9805 - val_loss: 0.0700 - val_binary_accuracy: 0.9835\n",
      "Epoch 4/50\n",
      "96/96 [==============================] - 2s 18ms/step - loss: 0.0686 - binary_accuracy: 0.9830 - val_loss: 0.0608 - val_binary_accuracy: 0.9849\n",
      "Epoch 5/50\n",
      "96/96 [==============================] - 2s 18ms/step - loss: 0.0603 - binary_accuracy: 0.9847 - val_loss: 0.0544 - val_binary_accuracy: 0.9861\n",
      "Epoch 6/50\n",
      "96/96 [==============================] - 2s 17ms/step - loss: 0.0540 - binary_accuracy: 0.9862 - val_loss: 0.0496 - val_binary_accuracy: 0.9876\n",
      "Epoch 7/50\n",
      "96/96 [==============================] - 2s 19ms/step - loss: 0.0490 - binary_accuracy: 0.9873 - val_loss: 0.0454 - val_binary_accuracy: 0.9886\n",
      "Epoch 8/50\n",
      "96/96 [==============================] - 2s 18ms/step - loss: 0.0449 - binary_accuracy: 0.9884 - val_loss: 0.0421 - val_binary_accuracy: 0.9894\n",
      "Epoch 9/50\n",
      "96/96 [==============================] - 2s 17ms/step - loss: 0.0414 - binary_accuracy: 0.9892 - val_loss: 0.0393 - val_binary_accuracy: 0.9899\n",
      "Epoch 10/50\n",
      "96/96 [==============================] - 2s 18ms/step - loss: 0.0385 - binary_accuracy: 0.9899 - val_loss: 0.0371 - val_binary_accuracy: 0.9904\n",
      "Epoch 11/50\n",
      "96/96 [==============================] - 2s 18ms/step - loss: 0.0359 - binary_accuracy: 0.9906 - val_loss: 0.0350 - val_binary_accuracy: 0.9909\n",
      "Epoch 12/50\n",
      "96/96 [==============================] - 2s 18ms/step - loss: 0.0336 - binary_accuracy: 0.9913 - val_loss: 0.0332 - val_binary_accuracy: 0.9914\n",
      "Epoch 13/50\n",
      "96/96 [==============================] - 2s 18ms/step - loss: 0.0316 - binary_accuracy: 0.9918 - val_loss: 0.0316 - val_binary_accuracy: 0.9916\n",
      "Epoch 14/50\n",
      "96/96 [==============================] - 2s 18ms/step - loss: 0.0298 - binary_accuracy: 0.9923 - val_loss: 0.0304 - val_binary_accuracy: 0.9919\n",
      "Epoch 15/50\n",
      "96/96 [==============================] - 2s 18ms/step - loss: 0.0282 - binary_accuracy: 0.9928 - val_loss: 0.0291 - val_binary_accuracy: 0.9920\n",
      "Epoch 16/50\n",
      "96/96 [==============================] - 2s 18ms/step - loss: 0.0267 - binary_accuracy: 0.9932 - val_loss: 0.0278 - val_binary_accuracy: 0.9925\n",
      "Epoch 17/50\n",
      "96/96 [==============================] - 2s 18ms/step - loss: 0.0253 - binary_accuracy: 0.9936 - val_loss: 0.0269 - val_binary_accuracy: 0.9927\n",
      "Epoch 18/50\n",
      "96/96 [==============================] - 2s 18ms/step - loss: 0.0241 - binary_accuracy: 0.9939 - val_loss: 0.0260 - val_binary_accuracy: 0.9929\n",
      "Epoch 19/50\n",
      "96/96 [==============================] - 2s 19ms/step - loss: 0.0230 - binary_accuracy: 0.9943 - val_loss: 0.0252 - val_binary_accuracy: 0.9930\n",
      "Epoch 20/50\n",
      "96/96 [==============================] - 2s 18ms/step - loss: 0.0219 - binary_accuracy: 0.9946 - val_loss: 0.0245 - val_binary_accuracy: 0.9933\n",
      "Epoch 21/50\n",
      "96/96 [==============================] - 2s 18ms/step - loss: 0.0209 - binary_accuracy: 0.9949 - val_loss: 0.0238 - val_binary_accuracy: 0.9935\n",
      "Epoch 22/50\n",
      "96/96 [==============================] - 2s 17ms/step - loss: 0.0200 - binary_accuracy: 0.9951 - val_loss: 0.0231 - val_binary_accuracy: 0.9937\n",
      "Epoch 23/50\n",
      "96/96 [==============================] - 2s 17ms/step - loss: 0.0192 - binary_accuracy: 0.9954 - val_loss: 0.0225 - val_binary_accuracy: 0.9939\n",
      "Epoch 24/50\n",
      "96/96 [==============================] - 2s 18ms/step - loss: 0.0184 - binary_accuracy: 0.9956 - val_loss: 0.0220 - val_binary_accuracy: 0.9939\n",
      "Epoch 25/50\n",
      "96/96 [==============================] - 2s 18ms/step - loss: 0.0176 - binary_accuracy: 0.9958 - val_loss: 0.0215 - val_binary_accuracy: 0.9940\n",
      "Epoch 26/50\n",
      "96/96 [==============================] - 2s 18ms/step - loss: 0.0169 - binary_accuracy: 0.9960 - val_loss: 0.0212 - val_binary_accuracy: 0.9941\n",
      "Epoch 27/50\n",
      "96/96 [==============================] - 2s 17ms/step - loss: 0.0163 - binary_accuracy: 0.9962 - val_loss: 0.0207 - val_binary_accuracy: 0.9942\n",
      "Epoch 28/50\n",
      "96/96 [==============================] - 2s 18ms/step - loss: 0.0157 - binary_accuracy: 0.9963 - val_loss: 0.0201 - val_binary_accuracy: 0.9944\n",
      "Epoch 29/50\n",
      "96/96 [==============================] - 2s 18ms/step - loss: 0.0151 - binary_accuracy: 0.9965 - val_loss: 0.0199 - val_binary_accuracy: 0.9944\n",
      "Epoch 30/50\n",
      "96/96 [==============================] - 2s 18ms/step - loss: 0.0145 - binary_accuracy: 0.9967 - val_loss: 0.0194 - val_binary_accuracy: 0.9947\n",
      "Epoch 31/50\n",
      "96/96 [==============================] - 2s 18ms/step - loss: 0.0139 - binary_accuracy: 0.9968 - val_loss: 0.0192 - val_binary_accuracy: 0.9945\n",
      "Epoch 32/50\n",
      "96/96 [==============================] - 2s 18ms/step - loss: 0.0134 - binary_accuracy: 0.9970 - val_loss: 0.0191 - val_binary_accuracy: 0.9948\n",
      "Epoch 33/50\n",
      "96/96 [==============================] - 2s 18ms/step - loss: 0.0130 - binary_accuracy: 0.9971 - val_loss: 0.0186 - val_binary_accuracy: 0.9949\n",
      "Epoch 34/50\n",
      "96/96 [==============================] - 2s 18ms/step - loss: 0.0125 - binary_accuracy: 0.9972 - val_loss: 0.0184 - val_binary_accuracy: 0.9949\n",
      "Epoch 35/50\n",
      "96/96 [==============================] - 2s 18ms/step - loss: 0.0120 - binary_accuracy: 0.9973 - val_loss: 0.0180 - val_binary_accuracy: 0.9951\n",
      "Epoch 36/50\n",
      "96/96 [==============================] - 2s 18ms/step - loss: 0.0116 - binary_accuracy: 0.9975 - val_loss: 0.0180 - val_binary_accuracy: 0.9950\n",
      "Epoch 37/50\n",
      "96/96 [==============================] - 2s 18ms/step - loss: 0.0112 - binary_accuracy: 0.9975 - val_loss: 0.0178 - val_binary_accuracy: 0.9952\n",
      "Epoch 38/50\n",
      "96/96 [==============================] - 2s 19ms/step - loss: 0.0108 - binary_accuracy: 0.9977 - val_loss: 0.0175 - val_binary_accuracy: 0.9952\n",
      "Epoch 39/50\n",
      "96/96 [==============================] - 2s 18ms/step - loss: 0.0105 - binary_accuracy: 0.9977 - val_loss: 0.0174 - val_binary_accuracy: 0.9952\n",
      "Epoch 40/50\n",
      "96/96 [==============================] - 2s 19ms/step - loss: 0.0101 - binary_accuracy: 0.9978 - val_loss: 0.0172 - val_binary_accuracy: 0.9953\n",
      "Epoch 41/50\n",
      "96/96 [==============================] - 2s 18ms/step - loss: 0.0097 - binary_accuracy: 0.9980 - val_loss: 0.0170 - val_binary_accuracy: 0.9952\n",
      "Epoch 42/50\n",
      "96/96 [==============================] - 2s 19ms/step - loss: 0.0094 - binary_accuracy: 0.9981 - val_loss: 0.0169 - val_binary_accuracy: 0.9954\n",
      "Epoch 43/50\n",
      "96/96 [==============================] - 2s 19ms/step - loss: 0.0091 - binary_accuracy: 0.9981 - val_loss: 0.0168 - val_binary_accuracy: 0.9954\n",
      "Epoch 44/50\n",
      "96/96 [==============================] - 2s 18ms/step - loss: 0.0088 - binary_accuracy: 0.9983 - val_loss: 0.0166 - val_binary_accuracy: 0.9953\n",
      "Epoch 45/50\n",
      "96/96 [==============================] - 2s 19ms/step - loss: 0.0084 - binary_accuracy: 0.9983 - val_loss: 0.0164 - val_binary_accuracy: 0.9955\n",
      "Epoch 46/50\n",
      "96/96 [==============================] - 2s 18ms/step - loss: 0.0082 - binary_accuracy: 0.9985 - val_loss: 0.0165 - val_binary_accuracy: 0.9955\n",
      "Epoch 47/50\n",
      "96/96 [==============================] - 2s 18ms/step - loss: 0.0079 - binary_accuracy: 0.9985 - val_loss: 0.0163 - val_binary_accuracy: 0.9953\n",
      "Epoch 48/50\n",
      "96/96 [==============================] - 2s 18ms/step - loss: 0.0076 - binary_accuracy: 0.9986 - val_loss: 0.0161 - val_binary_accuracy: 0.9955\n",
      "Epoch 49/50\n",
      "96/96 [==============================] - 2s 18ms/step - loss: 0.0073 - binary_accuracy: 0.9987 - val_loss: 0.0160 - val_binary_accuracy: 0.9956\n",
      "Epoch 50/50\n",
      "96/96 [==============================] - 2s 18ms/step - loss: 0.0071 - binary_accuracy: 0.9987 - val_loss: 0.0160 - val_binary_accuracy: 0.9956\n",
      "313/313 [==============================] - 1s 2ms/step\n"
     ]
    }
   ],
   "source": [
    "import tensorflow as tf\n",
    "import tensorflow.keras\n",
    "import matplotlib.pyplot as plt\n",
    "%matplotlib inline\n",
    "from tensorflow.keras import layers\n",
    "from tensorflow.keras.layers import Dense, Flatten\n",
    "from tensorflow.keras.models import Sequential\n",
    "from tensorflow.keras.optimizers import Adam\n",
    "from tensorflow.keras.datasets import mnist\n",
    "(X_train, y_train), (X_test, y_test) = mnist.load_data()\n",
    "X_train = X_train/X_train.max()\n",
    "X_test = X_test/X_test.max()\n",
    "y_train = tensorflow.keras.utils.to_categorical(y_train, 10)\n",
    "y_test = tensorflow.keras.utils.to_categorical(y_test, 10)\n",
    "model = Sequential([\n",
    "    layers.Flatten(input_shape=(X_train[0].shape)),\n",
    "    layers.Dense(512, activation='relu'),\n",
    "    layers.Dense(10, activation='softmax')\n",
    "]) \n",
    "model.compile(loss='binary_crossentropy',\n",
    "            optimizer = Adam(learning_rate=0.00024),\n",
    "             metrics = ['binary_accuracy'])\n",
    "stop = tf.keras.callbacks.EarlyStopping(monitor='val_loss', verbose=1, patience=6)\n",
    "history = model.fit(X_train, y_train, batch_size=500, verbose=1, \n",
    "                    epochs= 50, validation_split = 0.2, callbacks=[stop])\n",
    "pred = model.predict(X_test)"
   ]
  },
  {
   "cell_type": "code",
   "execution_count": 151,
   "id": "97a81c36-6bc0-481f-93c5-8626662898bf",
   "metadata": {},
   "outputs": [],
   "source": [
    "from PIL import Image\n",
    "\n",
    "def digit(img_path):\n",
    "    img = Image.open(img_path).convert('L') \n",
    "    #img = img.resize((28, 28))\n",
    "    img_array = np.array(img)\n",
    "    \n",
    "    plt.figure(figsize=(2, 2))\n",
    "    plt.imshow(img_array, cmap='gray')\n",
    "    plt.show()\n",
    "    \n",
    "    img_array = img_array.reshape(1, 28, 28)\n",
    "    img_array = img_array / 255\n",
    "    prediction = model.predict(img_array)\n",
    "    digit = np.argmax(prediction)\n",
    "    \n",
    "    return digit"
   ]
  },
  {
   "cell_type": "code",
   "execution_count": 200,
   "id": "3d46b148-d7f8-41a6-aa6b-001f2457c018",
   "metadata": {},
   "outputs": [
    {
     "data": {
      "image/png": "[encoded data removed]",
      "text/plain": [
       "<Figure size 200x200 with 1 Axes>"
      ]
     },
     "metadata": {},
     "output_type": "display_data"
    },
    {
     "name": "stdout",
     "output_type": "stream",
     "text": [
      "1/1 [==============================] - 0s 27ms/step\n",
      "ЭТО ЦИФРА: 0\n"
     ]
    }
   ],
   "source": [
    "print(\"ЭТО ЦИФРА:\", digit(\"00.png\"))"
   ]
  },
  {
   "cell_type": "code",
   "execution_count": 201,
   "id": "a17300c6-8b87-4631-b43a-08d890dc02c6",
   "metadata": {},
   "outputs": [
    {
     "data": {
      "image/png": "[encoded data removed]",
      "text/plain": [
       "<Figure size 200x200 with 1 Axes>"
      ]
     },
     "metadata": {},
     "output_type": "display_data"
    },
    {
     "name": "stdout",
     "output_type": "stream",
     "text": [
      "1/1 [==============================] - 0s 24ms/step\n",
      "ЭТО ЦИФРА: 1\n"
     ]
    }
   ],
   "source": [
    "print(\"ЭТО ЦИФРА:\", digit(\"01.png\"))"
   ]
  },
  {
   "cell_type": "code",
   "execution_count": 202,
   "id": "a2ea4f38-0936-42f9-b0a4-908f3a92af9a",
   "metadata": {},
   "outputs": [
    {
     "data": {
      "image/png": "[encoded data removed]",
      "text/plain": [
       "<Figure size 200x200 with 1 Axes>"
      ]
     },
     "metadata": {},
     "output_type": "display_data"
    },
    {
     "name": "stdout",
     "output_type": "stream",
     "text": [
      "1/1 [==============================] - 0s 23ms/step\n",
      "ЭТО ЦИФРА: 2\n"
     ]
    }
   ],
   "source": [
    "print(\"ЭТО ЦИФРА:\", digit(\"02.png\"))"
   ]
  },
  {
   "cell_type": "code",
   "execution_count": 203,
   "id": "71dffd48-b5e9-4236-b90b-db6aeb1aa6b3",
   "metadata": {},
   "outputs": [
    {
     "data": {
      "image/png": "[encoded data removed]",
      "text/plain": [
       "<Figure size 200x200 with 1 Axes>"
      ]
     },
     "metadata": {},
     "output_type": "display_data"
    },
    {
     "name": "stdout",
     "output_type": "stream",
     "text": [
      "1/1 [==============================] - 0s 22ms/step\n",
      "ЭТО ЦИФРА: 3\n"
     ]
    }
   ],
   "source": [
    "print(\"ЭТО ЦИФРА:\", digit(\"03.png\"))"
   ]
  },
  {
   "cell_type": "code",
   "execution_count": 204,
   "id": "8098da4c-3df0-48ab-9836-285af738d59a",
   "metadata": {},
   "outputs": [
    {
     "data": {
      "image/png": "[encoded data removed]",
      "text/plain": [
       "<Figure size 200x200 with 1 Axes>"
      ]
     },
     "metadata": {},
     "output_type": "display_data"
    },
    {
     "name": "stdout",
     "output_type": "stream",
     "text": [
      "1/1 [==============================] - 0s 26ms/step\n",
      "ЭТО ЦИФРА: 4\n"
     ]
    }
   ],
   "source": [
    "print(\"ЭТО ЦИФРА:\", digit(\"04.png\"))"
   ]
  },
  {
   "cell_type": "code",
   "execution_count": 205,
   "id": "7da2e711-4d94-4187-bbfe-dc9f967befe4",
   "metadata": {},
   "outputs": [
    {
     "data": {
      "image/png": "[encoded data removed]",
      "text/plain": [
       "<Figure size 200x200 with 1 Axes>"
      ]
     },
     "metadata": {},
     "output_type": "display_data"
    },
    {
     "name": "stdout",
     "output_type": "stream",
     "text": [
      "1/1 [==============================] - 0s 26ms/step\n",
      "ЭТО ЦИФРА: 5\n"
     ]
    }
   ],
   "source": [
    "print(\"ЭТО ЦИФРА:\", digit(\"05.png\"))"
   ]
  },
  {
   "cell_type": "code",
   "execution_count": 206,
   "id": "64000819-f458-4e6c-bce4-aa0695eac09e",
   "metadata": {},
   "outputs": [
    {
     "data": {
      "image/png": "[encoded data removed]",
      "text/plain": [
       "<Figure size 200x200 with 1 Axes>"
      ]
     },
     "metadata": {},
     "output_type": "display_data"
    },
    {
     "name": "stdout",
     "output_type": "stream",
     "text": [
      "1/1 [==============================] - 0s 24ms/step\n",
      "ЭТО ЦИФРА: 6\n"
     ]
    }
   ],
   "source": [
    "print(\"ЭТО ЦИФРА:\", digit(\"06.png\"))"
   ]
  },
  {
   "cell_type": "code",
   "execution_count": 207,
   "id": "714d75c0-2267-470b-ace4-024722192ed5",
   "metadata": {},
   "outputs": [
    {
     "data": {
      "image/png": "[encoded data removed]",
      "text/plain": [
       "<Figure size 200x200 with 1 Axes>"
      ]
     },
     "metadata": {},
     "output_type": "display_data"
    },
    {
     "name": "stdout",
     "output_type": "stream",
     "text": [
      "1/1 [==============================] - 0s 27ms/step\n",
      "ЭТО ЦИФРА: 7\n"
     ]
    }
   ],
   "source": [
    "print(\"ЭТО ЦИФРА:\", digit(\"07.png\"))"
   ]
  },
  {
   "cell_type": "code",
   "execution_count": 208,
   "id": "3729dc03-6fce-4ab1-852f-a2546d088aaf",
   "metadata": {},
   "outputs": [
    {
     "data": {
      "image/png": "[encoded data removed]",
      "text/plain": [
       "<Figure size 200x200 with 1 Axes>"
      ]
     },
     "metadata": {},
     "output_type": "display_data"
    },
    {
     "name": "stdout",
     "output_type": "stream",
     "text": [
      "1/1 [==============================] - 0s 23ms/step\n",
      "ЭТО ЦИФРА: 8\n"
     ]
    }
   ],
   "source": [
    "print(\"ЭТО ЦИФРА:\", digit(\"08.png\"))"
   ]
  },
  {
   "cell_type": "code",
   "execution_count": 209,
   "id": "3f91f69f-b682-4d78-86bc-9b64616c6bcc",
   "metadata": {},
   "outputs": [
    {
     "data": {
      "image/png": "[encoded data removed]",
      "text/plain": [
       "<Figure size 200x200 with 1 Axes>"
      ]
     },
     "metadata": {},
     "output_type": "display_data"
    },
    {
     "name": "stdout",
     "output_type": "stream",
     "text": [
      "1/1 [==============================] - 0s 24ms/step\n",
      "ЭТО ЦИФРА: 9\n"
     ]
    }
   ],
   "source": [
    "print(\"ЭТО ЦИФРА:\", digit(\"09.png\"))"
   ]
  }
 ],
 "metadata": {
  "kernelspec": {
   "display_name": "Python 3 (ipykernel)",
   "language": "python",
   "name": "python3"
  },
  "language_info": {
   "codemirror_mode": {
    "name": "ipython",
    "version": 3
   },
   "file_extension": ".py",
   "mimetype": "text/x-python",
   "name": "python",
   "nbconvert_exporter": "python",
   "pygments_lexer": "ipython3",
   "version": "3.9.18"
  }
 },
 "nbformat": 4,
 "nbformat_minor": 5
}
