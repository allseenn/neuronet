{
  "nbformat": 4,
  "nbformat_minor": 0,
  "metadata": {
    "colab": {
      "provenance": [],
      "gpuType": "T4",
      "authorship_tag": "ABX9TyNVkrEwlcbY2B7zoqNX2O3b",
      "include_colab_link": true
    },
    "kernelspec": {
      "name": "python3",
      "display_name": "Python 3"
    },
    "language_info": {
      "name": "python"
    },
    "accelerator": "GPU"
  },
  "cells": [
    {
      "cell_type": "markdown",
      "metadata": {
        "id": "view-in-github",
        "colab_type": "text"
      },
      "source": [
        "<a href=\"https://colab.research.google.com/github/allseenn/neuronet/blob/main/hw03c.ipynb\" target=\"_parent\"><img src=\"https://colab.research.google.com/assets/colab-badge.svg\" alt=\"Open In Colab\"/></a>"
      ]
    },
    {
      "cell_type": "markdown",
      "source": [
        "# Введение в нейронные сети\n",
        "\n",
        "## Урок 3. TensorFlow\n",
        "\n",
        "### Домашнее задание\n",
        "\n",
        "1. Попробуйте улучшить работу нейронной сети (разобранную на уроке), обучавшейся на датасет Fashion-MNIST. Напишите в комментариях к уроку, какого результата вы добились от нейросети и что помогло улучшить её точность\n",
        "2. Поработайте с документацией TensorFlow 2. Попробуйте найти полезные команды TensorFlow, неразобранные на уроке\n",
        "3. \\* Попробуйте обучить нейронную сеть на TensorFlow 2 на датасете imdb_reviews."
      ],
      "metadata": {
        "id": "bOLJepr2sftX"
      }
    },
    {
      "cell_type": "code",
      "source": [
        "from tensorflow.keras.datasets import fashion_mnist\n",
        "from tensorflow.keras.utils import to_categorical\n",
        "from tensorflow.keras.models import Sequential\n",
        "from tensorflow.keras.layers import Conv2D, MaxPooling2D, Flatten, Dense, Dropout\n",
        "from tensorflow.keras.optimizers import Adam\n",
        "from tensorflow.keras.preprocessing.image import ImageDataGenerator"
      ],
      "metadata": {
        "id": "Chr7ngWqulXx"
      },
      "execution_count": 7,
      "outputs": []
    },
    {
      "cell_type": "code",
      "source": [
        "# Загрузка данных\n",
        "(x_train, y_train), (x_test, y_test) = fashion_mnist.load_data()"
      ],
      "metadata": {
        "id": "H_OEtE8TeDdW"
      },
      "execution_count": 8,
      "outputs": []
    },
    {
      "cell_type": "code",
      "source": [
        "# Нормализация данных и изменение размера\n",
        "x_train = x_train.reshape((-1, 28, 28, 1)) / 255.0\n",
        "x_test = x_test.reshape((-1, 28, 28, 1)) / 255.0"
      ],
      "metadata": {
        "id": "FwdaYKCYelSg"
      },
      "execution_count": 9,
      "outputs": []
    },
    {
      "cell_type": "code",
      "source": [
        "# Преобразование меток в формат one-hot encoding\n",
        "y_train = to_categorical(y_train, num_classes=10)\n",
        "y_test = to_categorical(y_test, num_classes=10)"
      ],
      "metadata": {
        "id": "qMOUFbbck5BK"
      },
      "execution_count": 10,
      "outputs": []
    },
    {
      "cell_type": "code",
      "source": [
        "# Создание модели\n",
        "model = Sequential([\n",
        "    Conv2D(32, kernel_size=(3, 3), activation='relu', input_shape=(28, 28, 1)),\n",
        "    Conv2D(64, kernel_size=(3, 3), activation='relu'),\n",
        "    MaxPooling2D(pool_size=(2, 2)),\n",
        "    Dropout(0.25),\n",
        "    Flatten(),\n",
        "    Dense(128, activation='relu'),\n",
        "    Dropout(0.5),\n",
        "    Dense(10, activation='softmax')\n",
        "])"
      ],
      "metadata": {
        "id": "YaOupvSpurYF"
      },
      "execution_count": 11,
      "outputs": []
    },
    {
      "cell_type": "code",
      "source": [
        "# Компиляция модели с оптимизатором Adam\n",
        "model.compile(optimizer=Adam(), loss='categorical_crossentropy', metrics=['accuracy'])"
      ],
      "metadata": {
        "id": "n73FmrtHuw3b"
      },
      "execution_count": 12,
      "outputs": []
    },
    {
      "cell_type": "code",
      "source": [
        "# Создание аугментации данных\n",
        "datagen = ImageDataGenerator(\n",
        "    rotation_range=10,\n",
        "    width_shift_range=0.1,\n",
        "    height_shift_range=0.1,\n",
        "    horizontal_flip=True\n",
        ")"
      ],
      "metadata": {
        "id": "impEdFeClG1Z"
      },
      "execution_count": 13,
      "outputs": []
    },
    {
      "cell_type": "code",
      "source": [
        "# Обучение модели с использованием аугментированных данных\n",
        "model.fit_generator(datagen.flow(x_train, y_train, batch_size=128),\n",
        "                    steps_per_epoch=len(x_train) / 128, epochs=20,\n",
        "                    validation_data=(x_test, y_test))"
      ],
      "metadata": {
        "colab": {
          "base_uri": "https://localhost:8080/"
        },
        "id": "rSE3uklauzkK",
        "outputId": "05b40bbf-f13e-481c-9478-1f96081933a6"
      },
      "execution_count": 24,
      "outputs": [
        {
          "output_type": "stream",
          "name": "stdout",
          "text": [
            "Epoch 1/20\n",
            "  1/468 [..............................] - ETA: 35s - loss: 0.2373 - accuracy: 0.9062"
          ]
        },
        {
          "output_type": "stream",
          "name": "stderr",
          "text": [
            "<ipython-input-24-84c683495281>:2: UserWarning: `Model.fit_generator` is deprecated and will be removed in a future version. Please use `Model.fit`, which supports generators.\n",
            "  model.fit_generator(datagen.flow(x_train, y_train, batch_size=128),\n"
          ]
        },
        {
          "output_type": "stream",
          "name": "stdout",
          "text": [
            "468/468 [==============================] - 19s 41ms/step - loss: 0.3020 - accuracy: 0.8914 - val_loss: 0.2367 - val_accuracy: 0.9184\n",
            "Epoch 2/20\n",
            "468/468 [==============================] - 19s 41ms/step - loss: 0.3063 - accuracy: 0.8898 - val_loss: 0.2373 - val_accuracy: 0.9147\n",
            "Epoch 3/20\n",
            "468/468 [==============================] - 18s 39ms/step - loss: 0.3019 - accuracy: 0.8906 - val_loss: 0.2389 - val_accuracy: 0.9157\n",
            "Epoch 4/20\n",
            "468/468 [==============================] - 19s 40ms/step - loss: 0.2995 - accuracy: 0.8924 - val_loss: 0.2294 - val_accuracy: 0.9200\n",
            "Epoch 5/20\n",
            "468/468 [==============================] - 18s 39ms/step - loss: 0.2975 - accuracy: 0.8917 - val_loss: 0.2376 - val_accuracy: 0.9157\n",
            "Epoch 6/20\n",
            "468/468 [==============================] - 19s 41ms/step - loss: 0.3022 - accuracy: 0.8898 - val_loss: 0.2527 - val_accuracy: 0.9131\n",
            "Epoch 7/20\n",
            "468/468 [==============================] - 18s 38ms/step - loss: 0.3020 - accuracy: 0.8909 - val_loss: 0.2357 - val_accuracy: 0.9190\n",
            "Epoch 8/20\n",
            "468/468 [==============================] - 19s 40ms/step - loss: 0.2985 - accuracy: 0.8922 - val_loss: 0.2403 - val_accuracy: 0.9167\n",
            "Epoch 9/20\n",
            "468/468 [==============================] - 19s 40ms/step - loss: 0.2964 - accuracy: 0.8925 - val_loss: 0.2338 - val_accuracy: 0.9181\n",
            "Epoch 10/20\n",
            "468/468 [==============================] - 19s 40ms/step - loss: 0.2988 - accuracy: 0.8922 - val_loss: 0.2424 - val_accuracy: 0.9170\n",
            "Epoch 11/20\n",
            "468/468 [==============================] - 19s 41ms/step - loss: 0.2918 - accuracy: 0.8945 - val_loss: 0.2307 - val_accuracy: 0.9219\n",
            "Epoch 12/20\n",
            "468/468 [==============================] - 18s 39ms/step - loss: 0.2925 - accuracy: 0.8935 - val_loss: 0.2375 - val_accuracy: 0.9176\n",
            "Epoch 13/20\n",
            "468/468 [==============================] - 18s 39ms/step - loss: 0.2917 - accuracy: 0.8950 - val_loss: 0.2385 - val_accuracy: 0.9167\n",
            "Epoch 14/20\n",
            "468/468 [==============================] - 19s 41ms/step - loss: 0.2926 - accuracy: 0.8940 - val_loss: 0.2323 - val_accuracy: 0.9162\n",
            "Epoch 15/20\n",
            "468/468 [==============================] - 18s 39ms/step - loss: 0.2899 - accuracy: 0.8942 - val_loss: 0.2476 - val_accuracy: 0.9147\n",
            "Epoch 16/20\n",
            "468/468 [==============================] - 18s 38ms/step - loss: 0.2893 - accuracy: 0.8946 - val_loss: 0.2359 - val_accuracy: 0.9224\n",
            "Epoch 17/20\n",
            "468/468 [==============================] - 19s 40ms/step - loss: 0.2864 - accuracy: 0.8960 - val_loss: 0.2286 - val_accuracy: 0.9203\n",
            "Epoch 18/20\n",
            "468/468 [==============================] - 18s 38ms/step - loss: 0.2885 - accuracy: 0.8946 - val_loss: 0.2346 - val_accuracy: 0.9201\n",
            "Epoch 19/20\n",
            "468/468 [==============================] - 19s 41ms/step - loss: 0.2867 - accuracy: 0.8957 - val_loss: 0.2355 - val_accuracy: 0.9193\n",
            "Epoch 20/20\n",
            "468/468 [==============================] - 18s 39ms/step - loss: 0.2843 - accuracy: 0.8963 - val_loss: 0.2219 - val_accuracy: 0.9219\n"
          ]
        },
        {
          "output_type": "execute_result",
          "data": {
            "text/plain": [
              "<keras.src.callbacks.History at 0x7fd0d97b0cd0>"
            ]
          },
          "metadata": {},
          "execution_count": 24
        }
      ]
    },
    {
      "cell_type": "code",
      "source": [
        "# Оценка модели\n",
        "score = model.evaluate(x_test, y_test, verbose=0)\n",
        "print(\"Test loss:\", score[0])\n",
        "print(\"Test accuracy:\", score[1])"
      ],
      "metadata": {
        "colab": {
          "base_uri": "https://localhost:8080/"
        },
        "id": "rNYQMFbHu1i6",
        "outputId": "2e5827cd-5326-4983-dde2-ce07893cdb23"
      },
      "execution_count": 25,
      "outputs": [
        {
          "output_type": "stream",
          "name": "stdout",
          "text": [
            "Test loss: 0.22187510132789612\n",
            "Test accuracy: 0.9218999743461609\n"
          ]
        }
      ]
    },
    {
      "cell_type": "code",
      "source": [
        "import numpy as np\n",
        "from sklearn.metrics import classification_report\n",
        "\n",
        "# Получить прогнозы вероятностей модели на тестовых данных\n",
        "y_pred_probabilities = model.predict(x_test)\n",
        "\n",
        "# Преобразовать вероятности в индексы классов\n",
        "y_pred = np.argmax(y_pred_probabilities, axis=1)\n",
        "\n",
        "# Преобразовать метки в индексы классов\n",
        "y_test_classes = np.argmax(y_test, axis=1)\n",
        "\n",
        "# Сформировать отчет классификации для каждого класса\n",
        "class_report = classification_report(y_test_classes, y_pred)\n",
        "print(\"Classification Report:\")\n",
        "print(class_report)"
      ],
      "metadata": {
        "colab": {
          "base_uri": "https://localhost:8080/"
        },
        "id": "8v3D-Z37jNRD",
        "outputId": "569abf7f-a063-4f6c-bb47-d4a87e315391"
      },
      "execution_count": 26,
      "outputs": [
        {
          "output_type": "stream",
          "name": "stdout",
          "text": [
            "313/313 [==============================] - 1s 2ms/step\n",
            "Classification Report:\n",
            "              precision    recall  f1-score   support\n",
            "\n",
            "           0       0.90      0.86      0.88      1000\n",
            "           1       0.99      0.98      0.99      1000\n",
            "           2       0.89      0.88      0.89      1000\n",
            "           3       0.90      0.93      0.92      1000\n",
            "           4       0.86      0.89      0.87      1000\n",
            "           5       0.98      0.98      0.98      1000\n",
            "           6       0.77      0.77      0.77      1000\n",
            "           7       0.95      0.98      0.96      1000\n",
            "           8       0.99      0.99      0.99      1000\n",
            "           9       0.98      0.96      0.97      1000\n",
            "\n",
            "    accuracy                           0.92     10000\n",
            "   macro avg       0.92      0.92      0.92     10000\n",
            "weighted avg       0.92      0.92      0.92     10000\n",
            "\n"
          ]
        }
      ]
    },
    {
      "cell_type": "markdown",
      "source": [
        "Как показали эксперементы, архитектура сверточной сети в комбинации с полносвязными слоями, показала хорошие результаты. Рекомендуется обучать сетку не более чем на 30 эпохах, т.к. далее сеть перестает эффективно обучаться.\n",
        "Практически полностью код использует keras, кроме последнего блока оценки классов. По факту использовал знания полученные с 4 семинара, сверточные сети и немного упоминалось в 5 семинаре про аугментацию, применил ее не совсем понимая смысл происходящего :) Сеть имеет лучшие показатели, но ощутимее дольше обучается, используя мощности GPU, возможно из-за того, что используется чистый keras. Заметил на семинаре, что к недостаткам кераса, относят неспособность полноценного использования Multy GPU, в отличие от tensorflow."
      ],
      "metadata": {
        "id": "lOCNmV0BswjL"
      }
    }
  ]
}