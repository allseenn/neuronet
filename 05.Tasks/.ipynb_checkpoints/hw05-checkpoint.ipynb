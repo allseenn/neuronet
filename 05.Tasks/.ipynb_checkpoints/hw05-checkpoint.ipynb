{
 "cells": [
  {
   "cell_type": "code",
   "execution_count": 1,
   "id": "8b428221-6e37-4cb0-9779-19fb6e297295",
   "metadata": {},
   "outputs": [],
   "source": [
    "import re\n",
    "with open('train.txt', 'r', encoding='utf-8') as f:\n",
    "    text = f.read()\n",
    "    text = text.replace('\\ufeff', '') # убираем первый невидимый символ\n",
    "    text = re.sub(r'[^А-я ]', '', text) # убираем все недопустимые символы"
   ]
  },
  {
   "cell_type": "code",
   "execution_count": 2,
   "id": "f90f0ea4-0d4a-4819-95fd-4e9757f80c73",
   "metadata": {},
   "outputs": [
    {
     "data": {
      "text/plain": [
       "'Вы  лучший ответ на проблемы которые возникли в понедельникДумайте позитивно и верьте в свою способность достигать отличных результатовЕсли вы смогли в понедельник подняться с постели значит вы супер герой'"
      ]
     },
     "execution_count": 2,
     "metadata": {},
     "output_type": "execute_result"
    }
   ],
   "source": [
    "text"
   ]
  },
  {
   "cell_type": "code",
   "execution_count": 3,
   "id": "bb8045d2-7c41-430f-86d9-4371b2b5969e",
   "metadata": {},
   "outputs": [],
   "source": [
    "num_characters = 34 #33 буквы + пробел"
   ]
  },
  {
   "cell_type": "code",
   "execution_count": 4,
   "id": "1a991854-e6c5-44b3-a692-672de535dd96",
   "metadata": {},
   "outputs": [
    {
     "name": "stderr",
     "output_type": "stream",
     "text": [
      "2024-02-16 19:39:22.546665: I tensorflow/tsl/cuda/cudart_stub.cc:28] Could not find cuda drivers on your machine, GPU will not be used.\n",
      "2024-02-16 19:39:22.615652: I tensorflow/tsl/cuda/cudart_stub.cc:28] Could not find cuda drivers on your machine, GPU will not be used.\n",
      "2024-02-16 19:39:23.787287: W tensorflow/compiler/tf2tensorrt/utils/py_utils.cc:38] TF-TRT Warning: Could not find TensorRT\n"
     ]
    }
   ],
   "source": [
    "import keras\n",
    "from keras.preprocessing.text import Tokenizer"
   ]
  },
  {
   "cell_type": "code",
   "execution_count": 5,
   "id": "5be8e2a3-4e93-44d7-a396-9f7e45d61a9a",
   "metadata": {},
   "outputs": [],
   "source": [
    "tokenizer = Tokenizer(num_words=num_characters, char_level=True)"
   ]
  },
  {
   "cell_type": "code",
   "execution_count": 6,
   "id": "fa3a2d1e-e9e7-42ba-b063-33191fbda6e3",
   "metadata": {},
   "outputs": [],
   "source": [
    "tokenizer.fit_on_texts(text)"
   ]
  },
  {
   "cell_type": "code",
   "execution_count": 7,
   "id": "f1605d4e-2c02-43e5-b6c7-8e3556490f30",
   "metadata": {},
   "outputs": [
    {
     "name": "stdout",
     "output_type": "stream",
     "text": [
      "{' ': 1, 'о': 2, 'т': 3, 'е': 4, 'и': 5, 'в': 6, 'н': 7, 'с': 8, 'л': 9, 'п': 10, 'ь': 11, 'ы': 12, 'р': 13, 'а': 14, 'д': 15, 'у': 16, 'к': 17, 'з': 18, 'ч': 19, 'й': 20, 'м': 21, 'г': 22, 'б': 23, 'я': 24, 'ш': 25, 'ю': 26, 'х': 27}\n"
     ]
    }
   ],
   "source": [
    "print(tokenizer.word_index)"
   ]
  },
  {
   "cell_type": "code",
   "execution_count": 8,
   "id": "8e838e50-9901-4dc0-8d40-7080c9b4f71f",
   "metadata": {},
   "outputs": [],
   "source": [
    "inp_chars = 3\n",
    "data = tokenizer.texts_to_matrix(text)"
   ]
  },
  {
   "cell_type": "code",
   "execution_count": 9,
   "id": "227b7b9e-201b-4f9d-a5a0-d820110124be",
   "metadata": {},
   "outputs": [
    {
     "data": {
      "text/plain": [
       "array([[0., 0., 0., ..., 0., 0., 0.],\n",
       "       [0., 0., 0., ..., 0., 0., 0.],\n",
       "       [0., 1., 0., ..., 0., 0., 0.],\n",
       "       ...,\n",
       "       [0., 0., 0., ..., 0., 0., 0.],\n",
       "       [0., 0., 1., ..., 0., 0., 0.],\n",
       "       [0., 0., 0., ..., 0., 0., 0.]])"
      ]
     },
     "execution_count": 9,
     "metadata": {},
     "output_type": "execute_result"
    }
   ],
   "source": [
    "data"
   ]
  },
  {
   "cell_type": "code",
   "execution_count": 10,
   "id": "a98e6afb-6620-48f8-819f-68f5dd50fed4",
   "metadata": {},
   "outputs": [],
   "source": [
    "import numpy as np"
   ]
  },
  {
   "cell_type": "code",
   "execution_count": 11,
   "id": "1c4a8901-7cf5-4ecb-952e-1fcc6a1a7870",
   "metadata": {},
   "outputs": [],
   "source": [
    "n = data.shape[0]-inp_chars\n",
    "n  #размер обучающего множества\n",
    "X = np.array([data[i:i+inp_chars, :] for i in range(n)])\n",
    "Y = data[inp_chars:] #предсказание следующего символа"
   ]
  },
  {
   "cell_type": "code",
   "execution_count": 12,
   "id": "e49ec570-7d4f-4691-879c-02b163055aa1",
   "metadata": {},
   "outputs": [],
   "source": [
    "from keras.layers import *\n",
    "from keras.models import Sequential"
   ]
  },
  {
   "cell_type": "code",
   "execution_count": 13,
   "id": "4dcb6421-8980-490c-8ad7-304d377cb338",
   "metadata": {},
   "outputs": [
    {
     "name": "stdout",
     "output_type": "stream",
     "text": [
      "Model: \"sequential\"\n",
      "_________________________________________________________________\n",
      " Layer (type)                Output Shape              Param #   \n",
      "=================================================================\n",
      " simple_rnn (SimpleRNN)      (None, 500)               267500    \n",
      "                                                                 \n",
      " dense (Dense)               (None, 34)                17034     \n",
      "                                                                 \n",
      "=================================================================\n",
      "Total params: 284,534\n",
      "Trainable params: 284,534\n",
      "Non-trainable params: 0\n",
      "_________________________________________________________________\n"
     ]
    }
   ],
   "source": [
    "model = Sequential()\n",
    "model.add(Input((inp_chars, num_characters))) \n",
    "model.add(SimpleRNN(500, activation='tanh')) \n",
    "model.add(Dense(num_characters, activation='softmax'))\n",
    "model.summary()"
   ]
  },
  {
   "cell_type": "code",
   "execution_count": 14,
   "id": "1d94dcb0-1189-453f-b0c1-2269f5f22bd4",
   "metadata": {},
   "outputs": [
    {
     "name": "stdout",
     "output_type": "stream",
     "text": [
      "Epoch 1/100\n",
      "7/7 [==============================] - 1s 9ms/step - loss: 3.4677 - accuracy: 0.0693\n",
      "Epoch 2/100\n",
      "7/7 [==============================] - 0s 9ms/step - loss: 2.8362 - accuracy: 0.2970\n",
      "Epoch 3/100\n",
      "7/7 [==============================] - 0s 10ms/step - loss: 2.4384 - accuracy: 0.2673\n",
      "Epoch 4/100\n",
      "7/7 [==============================] - 0s 10ms/step - loss: 2.1799 - accuracy: 0.3465\n",
      "Epoch 5/100\n",
      "7/7 [==============================] - 0s 10ms/step - loss: 1.9647 - accuracy: 0.3960\n",
      "Epoch 6/100\n",
      "7/7 [==============================] - 0s 9ms/step - loss: 1.7722 - accuracy: 0.4455\n",
      "Epoch 7/100\n",
      "7/7 [==============================] - 0s 9ms/step - loss: 1.6361 - accuracy: 0.5347\n",
      "Epoch 8/100\n",
      "7/7 [==============================] - 0s 9ms/step - loss: 1.5138 - accuracy: 0.5099\n",
      "Epoch 9/100\n",
      "7/7 [==============================] - 0s 9ms/step - loss: 1.4084 - accuracy: 0.5545\n",
      "Epoch 10/100\n",
      "7/7 [==============================] - 0s 9ms/step - loss: 1.3336 - accuracy: 0.5644\n",
      "Epoch 11/100\n",
      "7/7 [==============================] - 0s 9ms/step - loss: 1.2819 - accuracy: 0.6040\n",
      "Epoch 12/100\n",
      "7/7 [==============================] - 0s 9ms/step - loss: 1.1934 - accuracy: 0.6386\n",
      "Epoch 13/100\n",
      "7/7 [==============================] - 0s 10ms/step - loss: 1.1692 - accuracy: 0.6040\n",
      "Epoch 14/100\n",
      "7/7 [==============================] - 0s 10ms/step - loss: 1.1087 - accuracy: 0.6139\n",
      "Epoch 15/100\n",
      "7/7 [==============================] - 0s 10ms/step - loss: 1.0497 - accuracy: 0.6485\n",
      "Epoch 16/100\n",
      "7/7 [==============================] - 0s 10ms/step - loss: 1.0128 - accuracy: 0.6832\n",
      "Epoch 17/100\n",
      "7/7 [==============================] - 0s 10ms/step - loss: 1.0086 - accuracy: 0.6634\n",
      "Epoch 18/100\n",
      "7/7 [==============================] - 0s 9ms/step - loss: 0.9686 - accuracy: 0.7228\n",
      "Epoch 19/100\n",
      "7/7 [==============================] - 0s 9ms/step - loss: 0.9568 - accuracy: 0.7030\n",
      "Epoch 20/100\n",
      "7/7 [==============================] - 0s 9ms/step - loss: 0.9020 - accuracy: 0.7079\n",
      "Epoch 21/100\n",
      "7/7 [==============================] - 0s 10ms/step - loss: 0.8886 - accuracy: 0.7277\n",
      "Epoch 22/100\n",
      "7/7 [==============================] - 0s 10ms/step - loss: 0.8885 - accuracy: 0.6931\n",
      "Epoch 23/100\n",
      "7/7 [==============================] - 0s 9ms/step - loss: 0.8292 - accuracy: 0.7277\n",
      "Epoch 24/100\n",
      "7/7 [==============================] - 0s 9ms/step - loss: 0.8171 - accuracy: 0.7376\n",
      "Epoch 25/100\n",
      "7/7 [==============================] - 0s 9ms/step - loss: 0.8206 - accuracy: 0.7376\n",
      "Epoch 26/100\n",
      "7/7 [==============================] - 0s 9ms/step - loss: 0.7818 - accuracy: 0.7475\n",
      "Epoch 27/100\n",
      "7/7 [==============================] - 0s 9ms/step - loss: 0.7870 - accuracy: 0.7277\n",
      "Epoch 28/100\n",
      "7/7 [==============================] - 0s 9ms/step - loss: 0.7655 - accuracy: 0.7723\n",
      "Epoch 29/100\n",
      "7/7 [==============================] - 0s 9ms/step - loss: 0.7524 - accuracy: 0.7574\n",
      "Epoch 30/100\n",
      "7/7 [==============================] - 0s 9ms/step - loss: 0.7529 - accuracy: 0.7673\n",
      "Epoch 31/100\n",
      "7/7 [==============================] - 0s 10ms/step - loss: 0.7365 - accuracy: 0.7673\n",
      "Epoch 32/100\n",
      "7/7 [==============================] - 0s 9ms/step - loss: 0.7198 - accuracy: 0.7574\n",
      "Epoch 33/100\n",
      "7/7 [==============================] - 0s 9ms/step - loss: 0.7103 - accuracy: 0.7624\n",
      "Epoch 34/100\n",
      "7/7 [==============================] - 0s 8ms/step - loss: 0.6793 - accuracy: 0.7921\n",
      "Epoch 35/100\n",
      "7/7 [==============================] - 0s 9ms/step - loss: 0.6532 - accuracy: 0.7970\n",
      "Epoch 36/100\n",
      "7/7 [==============================] - 0s 9ms/step - loss: 0.6696 - accuracy: 0.7574\n",
      "Epoch 37/100\n",
      "7/7 [==============================] - 0s 9ms/step - loss: 0.6835 - accuracy: 0.7673\n",
      "Epoch 38/100\n",
      "7/7 [==============================] - 0s 8ms/step - loss: 0.6434 - accuracy: 0.7921\n",
      "Epoch 39/100\n",
      "7/7 [==============================] - 0s 9ms/step - loss: 0.6473 - accuracy: 0.7822\n",
      "Epoch 40/100\n",
      "7/7 [==============================] - 0s 10ms/step - loss: 0.6425 - accuracy: 0.7772\n",
      "Epoch 41/100\n",
      "7/7 [==============================] - 0s 10ms/step - loss: 0.6345 - accuracy: 0.8069\n",
      "Epoch 42/100\n",
      "7/7 [==============================] - 0s 9ms/step - loss: 0.5808 - accuracy: 0.8366\n",
      "Epoch 43/100\n",
      "7/7 [==============================] - 0s 9ms/step - loss: 0.5981 - accuracy: 0.8218\n",
      "Epoch 44/100\n",
      "7/7 [==============================] - 0s 9ms/step - loss: 0.5917 - accuracy: 0.8119\n",
      "Epoch 45/100\n",
      "7/7 [==============================] - 0s 8ms/step - loss: 0.6232 - accuracy: 0.7673\n",
      "Epoch 46/100\n",
      "7/7 [==============================] - 0s 9ms/step - loss: 0.5766 - accuracy: 0.8020\n",
      "Epoch 47/100\n",
      "7/7 [==============================] - 0s 9ms/step - loss: 0.5832 - accuracy: 0.7723\n",
      "Epoch 48/100\n",
      "7/7 [==============================] - 0s 9ms/step - loss: 0.5531 - accuracy: 0.8218\n",
      "Epoch 49/100\n",
      "7/7 [==============================] - 0s 9ms/step - loss: 0.5574 - accuracy: 0.8218\n",
      "Epoch 50/100\n",
      "7/7 [==============================] - 0s 10ms/step - loss: 0.5937 - accuracy: 0.7970\n",
      "Epoch 51/100\n",
      "7/7 [==============================] - 0s 10ms/step - loss: 0.5601 - accuracy: 0.8020\n",
      "Epoch 52/100\n",
      "7/7 [==============================] - 0s 9ms/step - loss: 0.5719 - accuracy: 0.8317\n",
      "Epoch 53/100\n",
      "7/7 [==============================] - 0s 8ms/step - loss: 0.5684 - accuracy: 0.8366\n",
      "Epoch 54/100\n",
      "7/7 [==============================] - 0s 8ms/step - loss: 0.5564 - accuracy: 0.8218\n",
      "Epoch 55/100\n",
      "7/7 [==============================] - 0s 9ms/step - loss: 0.5176 - accuracy: 0.8267\n",
      "Epoch 56/100\n",
      "7/7 [==============================] - 0s 9ms/step - loss: 0.5213 - accuracy: 0.8020\n",
      "Epoch 57/100\n",
      "7/7 [==============================] - 0s 9ms/step - loss: 0.4979 - accuracy: 0.8416\n",
      "Epoch 58/100\n",
      "7/7 [==============================] - 0s 11ms/step - loss: 0.4885 - accuracy: 0.8317\n",
      "Epoch 59/100\n",
      "7/7 [==============================] - 0s 9ms/step - loss: 0.5174 - accuracy: 0.8317\n",
      "Epoch 60/100\n",
      "7/7 [==============================] - 0s 9ms/step - loss: 0.5206 - accuracy: 0.8416\n",
      "Epoch 61/100\n",
      "7/7 [==============================] - 0s 9ms/step - loss: 0.5342 - accuracy: 0.8366\n",
      "Epoch 62/100\n",
      "7/7 [==============================] - 0s 9ms/step - loss: 0.4839 - accuracy: 0.8465\n",
      "Epoch 63/100\n",
      "7/7 [==============================] - 0s 9ms/step - loss: 0.4801 - accuracy: 0.8515\n",
      "Epoch 64/100\n",
      "7/7 [==============================] - 0s 9ms/step - loss: 0.4700 - accuracy: 0.8267\n",
      "Epoch 65/100\n",
      "7/7 [==============================] - 0s 9ms/step - loss: 0.4578 - accuracy: 0.8713\n",
      "Epoch 66/100\n",
      "7/7 [==============================] - 0s 8ms/step - loss: 0.4600 - accuracy: 0.8564\n",
      "Epoch 67/100\n",
      "7/7 [==============================] - 0s 8ms/step - loss: 0.4867 - accuracy: 0.8416\n",
      "Epoch 68/100\n",
      "7/7 [==============================] - 0s 8ms/step - loss: 0.4760 - accuracy: 0.8564\n",
      "Epoch 69/100\n",
      "7/7 [==============================] - 0s 8ms/step - loss: 0.5002 - accuracy: 0.8366\n",
      "Epoch 70/100\n",
      "7/7 [==============================] - 0s 8ms/step - loss: 0.4378 - accuracy: 0.8663\n",
      "Epoch 71/100\n",
      "7/7 [==============================] - 0s 9ms/step - loss: 0.4406 - accuracy: 0.8366\n",
      "Epoch 72/100\n",
      "7/7 [==============================] - 0s 10ms/step - loss: 0.4288 - accuracy: 0.8317\n",
      "Epoch 73/100\n",
      "7/7 [==============================] - 0s 10ms/step - loss: 0.4243 - accuracy: 0.8713\n",
      "Epoch 74/100\n",
      "7/7 [==============================] - 0s 10ms/step - loss: 0.4109 - accuracy: 0.8713\n",
      "Epoch 75/100\n",
      "7/7 [==============================] - 0s 9ms/step - loss: 0.4251 - accuracy: 0.8416\n",
      "Epoch 76/100\n",
      "7/7 [==============================] - 0s 8ms/step - loss: 0.4603 - accuracy: 0.8564\n",
      "Epoch 77/100\n",
      "7/7 [==============================] - 0s 8ms/step - loss: 0.3933 - accuracy: 0.8614\n",
      "Epoch 78/100\n",
      "7/7 [==============================] - 0s 8ms/step - loss: 0.4567 - accuracy: 0.8515\n",
      "Epoch 79/100\n",
      "7/7 [==============================] - 0s 9ms/step - loss: 0.4172 - accuracy: 0.8713\n",
      "Epoch 80/100\n",
      "7/7 [==============================] - 0s 8ms/step - loss: 0.3914 - accuracy: 0.8614\n",
      "Epoch 81/100\n",
      "7/7 [==============================] - 0s 8ms/step - loss: 0.3864 - accuracy: 0.8713\n",
      "Epoch 82/100\n",
      "7/7 [==============================] - 0s 9ms/step - loss: 0.4100 - accuracy: 0.8564\n",
      "Epoch 83/100\n",
      "7/7 [==============================] - 0s 8ms/step - loss: 0.4123 - accuracy: 0.8614\n",
      "Epoch 84/100\n",
      "7/7 [==============================] - 0s 9ms/step - loss: 0.3913 - accuracy: 0.8663\n",
      "Epoch 85/100\n",
      "7/7 [==============================] - 0s 8ms/step - loss: 0.3986 - accuracy: 0.8564\n",
      "Epoch 86/100\n",
      "7/7 [==============================] - 0s 8ms/step - loss: 0.4193 - accuracy: 0.8465\n",
      "Epoch 87/100\n",
      "7/7 [==============================] - 0s 8ms/step - loss: 0.3822 - accuracy: 0.8762\n",
      "Epoch 88/100\n",
      "7/7 [==============================] - 0s 8ms/step - loss: 0.3993 - accuracy: 0.8812\n",
      "Epoch 89/100\n",
      "7/7 [==============================] - 0s 8ms/step - loss: 0.3894 - accuracy: 0.8713\n",
      "Epoch 90/100\n",
      "7/7 [==============================] - 0s 8ms/step - loss: 0.3788 - accuracy: 0.8861\n",
      "Epoch 91/100\n",
      "7/7 [==============================] - 0s 8ms/step - loss: 0.3773 - accuracy: 0.8812\n",
      "Epoch 92/100\n",
      "7/7 [==============================] - 0s 8ms/step - loss: 0.3408 - accuracy: 0.8663\n",
      "Epoch 93/100\n",
      "7/7 [==============================] - 0s 8ms/step - loss: 0.3729 - accuracy: 0.8861\n",
      "Epoch 94/100\n",
      "7/7 [==============================] - 0s 9ms/step - loss: 0.3635 - accuracy: 0.8861\n",
      "Epoch 95/100\n",
      "7/7 [==============================] - 0s 9ms/step - loss: 0.3472 - accuracy: 0.8663\n",
      "Epoch 96/100\n",
      "7/7 [==============================] - 0s 9ms/step - loss: 0.4022 - accuracy: 0.8614\n",
      "Epoch 97/100\n",
      "7/7 [==============================] - 0s 9ms/step - loss: 0.4258 - accuracy: 0.8465\n",
      "Epoch 98/100\n",
      "7/7 [==============================] - 0s 9ms/step - loss: 0.3869 - accuracy: 0.8911\n",
      "Epoch 99/100\n",
      "7/7 [==============================] - 0s 8ms/step - loss: 0.3442 - accuracy: 0.8614\n",
      "Epoch 100/100\n",
      "7/7 [==============================] - 0s 9ms/step - loss: 0.3634 - accuracy: 0.8663\n"
     ]
    }
   ],
   "source": [
    "model.compile(loss='categorical_crossentropy', metrics=['accuracy'], optimizer='adam')\n",
    "history = model.fit(X, Y, batch_size=32, epochs=100)"
   ]
  },
  {
   "cell_type": "code",
   "execution_count": 15,
   "id": "93a8069a-b756-466f-b1bf-504b40b1f4f7",
   "metadata": {},
   "outputs": [],
   "source": [
    "def buildPhrase(inp_str, str_len = 50):\n",
    "  for i in range(str_len):\n",
    "    x = []\n",
    "    for j in range(i, i+inp_chars):\n",
    "      x.append(tokenizer.texts_to_matrix(inp_str[j])) # преобразуем символы в One-Hot-encoding\n",
    " \n",
    "    x = np.array(x)\n",
    "    inp = x.reshape(1, inp_chars, num_characters)\n",
    " \n",
    "    pred = model.predict( inp ) # предсказываем OHE четвертого символа\n",
    "    d = tokenizer.index_word[pred.argmax(axis=1)[0]] # получаем ответ в символьном представлении\n",
    " \n",
    "    inp_str += d # дописываем строку\n",
    " \n",
    "  return inp_str"
   ]
  },
  {
   "cell_type": "code",
   "execution_count": 16,
   "id": "5afc7e5b-e0af-4ecb-af68-a683f1b83be4",
   "metadata": {},
   "outputs": [
    {
     "name": "stdout",
     "output_type": "stream",
     "text": [
      "1/1 [==============================] - 0s 170ms/step\n",
      "1/1 [==============================] - 0s 22ms/step\n",
      "1/1 [==============================] - 0s 21ms/step\n",
      "1/1 [==============================] - 0s 22ms/step\n",
      "1/1 [==============================] - 0s 23ms/step\n",
      "1/1 [==============================] - 0s 22ms/step\n",
      "1/1 [==============================] - 0s 23ms/step\n",
      "1/1 [==============================] - 0s 22ms/step\n",
      "1/1 [==============================] - 0s 21ms/step\n",
      "1/1 [==============================] - 0s 25ms/step\n",
      "1/1 [==============================] - 0s 25ms/step\n",
      "1/1 [==============================] - 0s 27ms/step\n",
      "1/1 [==============================] - 0s 22ms/step\n",
      "1/1 [==============================] - 0s 23ms/step\n",
      "1/1 [==============================] - 0s 26ms/step\n",
      "1/1 [==============================] - 0s 23ms/step\n",
      "1/1 [==============================] - 0s 25ms/step\n",
      "1/1 [==============================] - 0s 27ms/step\n",
      "1/1 [==============================] - 0s 25ms/step\n",
      "1/1 [==============================] - 0s 23ms/step\n",
      "1/1 [==============================] - 0s 26ms/step\n",
      "1/1 [==============================] - 0s 22ms/step\n",
      "1/1 [==============================] - 0s 23ms/step\n",
      "1/1 [==============================] - 0s 23ms/step\n",
      "1/1 [==============================] - 0s 22ms/step\n",
      "1/1 [==============================] - 0s 27ms/step\n",
      "1/1 [==============================] - 0s 26ms/step\n",
      "1/1 [==============================] - 0s 24ms/step\n",
      "1/1 [==============================] - 0s 23ms/step\n",
      "1/1 [==============================] - 0s 25ms/step\n",
      "1/1 [==============================] - 0s 22ms/step\n",
      "1/1 [==============================] - 0s 23ms/step\n",
      "1/1 [==============================] - 0s 30ms/step\n",
      "1/1 [==============================] - 0s 29ms/step\n",
      "1/1 [==============================] - 0s 22ms/step\n",
      "1/1 [==============================] - 0s 24ms/step\n",
      "1/1 [==============================] - 0s 22ms/step\n",
      "1/1 [==============================] - 0s 22ms/step\n",
      "1/1 [==============================] - 0s 22ms/step\n",
      "1/1 [==============================] - 0s 22ms/step\n",
      "1/1 [==============================] - 0s 24ms/step\n",
      "1/1 [==============================] - 0s 22ms/step\n",
      "1/1 [==============================] - 0s 22ms/step\n",
      "1/1 [==============================] - 0s 23ms/step\n",
      "1/1 [==============================] - 0s 26ms/step\n",
      "1/1 [==============================] - 0s 23ms/step\n",
      "1/1 [==============================] - 0s 22ms/step\n",
      "1/1 [==============================] - 0s 25ms/step\n",
      "1/1 [==============================] - 0s 22ms/step\n",
      "1/1 [==============================] - 0s 24ms/step\n",
      "утреннрте  елпорунзоеейтие о нвове тнсь втиоорвннее   е \n"
     ]
    }
   ],
   "source": [
    "res = buildPhrase(\"утренн\")\n",
    "print(res)"
   ]
  },
  {
   "cell_type": "markdown",
   "id": "482bbd9f-f067-421e-8810-8eb160438e09",
   "metadata": {},
   "source": [
    "Слова"
   ]
  },
  {
   "cell_type": "code",
   "execution_count": 17,
   "id": "87004555-a2b4-4eab-beb8-1c2b309a9375",
   "metadata": {},
   "outputs": [],
   "source": [
    "import keras.preprocessing.text as text\n",
    "with open('train.txt', 'r', encoding='utf-8') as f:\n",
    "    texts = f.read()\n",
    "    texts = texts.replace('\\ufeff', '') # убираем первый невидимый символ"
   ]
  },
  {
   "cell_type": "code",
   "execution_count": 18,
   "id": "d9fa1670-ce7b-4708-9da1-724e4cfb4ff7",
   "metadata": {},
   "outputs": [],
   "source": [
    "maxWordsCount = 1000\n",
    "tokenizer = Tokenizer(num_words=maxWordsCount, filters='!–\"—#$%&amp;()*+,-./:;<=>?@[\\\\]^_`{|}~\\t\\n\\r«»',\n",
    "                       lower=True, split=' ', char_level=False)\n",
    "tokenizer.fit_on_texts([texts])"
   ]
  },
  {
   "cell_type": "code",
   "execution_count": 19,
   "id": "f1ab0f19-cf7e-416d-99eb-d2abb1f0f6ce",
   "metadata": {},
   "outputs": [
    {
     "data": {
      "text/plain": [
       "{1: 'вы',\n",
       " 2: 'в',\n",
       " 3: 'понедельник',\n",
       " 4: 'лучший',\n",
       " 5: 'ответ',\n",
       " 6: 'на',\n",
       " 7: 'проблемы',\n",
       " 8: 'которые',\n",
       " 9: 'возникли',\n",
       " 10: 'думайте',\n",
       " 11: 'позитивно',\n",
       " 12: 'и',\n",
       " 13: 'верьте',\n",
       " 14: 'свою',\n",
       " 15: 'способность',\n",
       " 16: 'достигать',\n",
       " 17: 'отличных',\n",
       " 18: 'результатов',\n",
       " 19: 'если',\n",
       " 20: 'смогли',\n",
       " 21: 'подняться',\n",
       " 22: 'с',\n",
       " 23: 'постели',\n",
       " 24: 'значит',\n",
       " 25: 'супер',\n",
       " 26: 'герой'}"
      ]
     },
     "execution_count": 19,
     "metadata": {},
     "output_type": "execute_result"
    }
   ],
   "source": [
    "tokenizer.index_word"
   ]
  },
  {
   "cell_type": "code",
   "execution_count": 20,
   "id": "9c8b54b7-5997-47b1-bf3e-3aacb7252d45",
   "metadata": {},
   "outputs": [
    {
     "name": "stdout",
     "output_type": "stream",
     "text": [
      "{'вы': 1, 'в': 2, 'понедельник': 3, 'лучший': 4, 'ответ': 5, 'на': 6, 'проблемы': 7, 'которые': 8, 'возникли': 9, 'думайте': 10, 'позитивно': 11, 'и': 12, 'верьте': 13, 'свою': 14, 'способность': 15, 'достигать': 16, 'отличных': 17, 'результатов': 18, 'если': 19, 'смогли': 20, 'подняться': 21, 'с': 22, 'постели': 23, 'значит': 24, 'супер': 25, 'герой': 26}\n"
     ]
    }
   ],
   "source": [
    "print(tokenizer.word_index)"
   ]
  },
  {
   "cell_type": "code",
   "execution_count": 21,
   "id": "89a16e62-74ad-4662-91d0-227fc4b1c5fa",
   "metadata": {},
   "outputs": [
    {
     "name": "stdout",
     "output_type": "stream",
     "text": [
      "[('вы', 3), ('лучший', 1), ('ответ', 1), ('на', 1), ('проблемы', 1), ('которые', 1), ('возникли', 1), ('в', 3), ('понедельник', 2), ('думайте', 1)]\n"
     ]
    }
   ],
   "source": [
    "dist = list(tokenizer.word_counts.items())\n",
    "print(dist[:10])"
   ]
  },
  {
   "cell_type": "code",
   "execution_count": 42,
   "id": "a89643fa-9cfa-410f-9dbe-9b367c195992",
   "metadata": {},
   "outputs": [],
   "source": [
    "data = tokenizer.texts_to_sequences([texts])"
   ]
  },
  {
   "cell_type": "code",
   "execution_count": 48,
   "id": "c03f8ca3-8afe-4476-983d-40e51f8cccb0",
   "metadata": {},
   "outputs": [
    {
     "name": "stdout",
     "output_type": "stream",
     "text": [
      "[[0. 1. 0. ... 0. 0. 0.]\n",
      " [0. 0. 0. ... 0. 0. 0.]\n",
      " [0. 0. 0. ... 0. 0. 0.]\n",
      " ...\n",
      " [0. 1. 0. ... 0. 0. 0.]\n",
      " [0. 0. 0. ... 0. 0. 0.]\n",
      " [0. 0. 0. ... 0. 0. 0.]]\n"
     ]
    }
   ],
   "source": [
    "res = keras.utils.to_categorical(data[0], num_classes=maxWordsCount)\n",
    "print( res)"
   ]
  },
  {
   "cell_type": "code",
   "execution_count": 49,
   "id": "ea07cbcf-0eeb-4633-908e-57ea8530891b",
   "metadata": {},
   "outputs": [],
   "source": [
    "inp_words = 3\n",
    "n = res.shape[0]-inp_words"
   ]
  },
  {
   "cell_type": "code",
   "execution_count": 50,
   "id": "32bfe6ae-d2ff-4f58-8bfa-a723f96ffbdb",
   "metadata": {},
   "outputs": [],
   "source": [
    "X = np.array([res[i:i+inp_words, :] for i in range(n)])\n",
    "Y = res[inp_words:]"
   ]
  },
  {
   "cell_type": "code",
   "execution_count": 51,
   "id": "64cd1bc0-4e1a-4007-85ea-df6ba2620325",
   "metadata": {},
   "outputs": [
    {
     "name": "stdout",
     "output_type": "stream",
     "text": [
      "Model: \"sequential_2\"\n",
      "_________________________________________________________________\n",
      " Layer (type)                Output Shape              Param #   \n",
      "=================================================================\n",
      " simple_rnn_2 (SimpleRNN)    (None, 128)               144512    \n",
      "                                                                 \n",
      " dense_2 (Dense)             (None, 1000)              129000    \n",
      "                                                                 \n",
      "=================================================================\n",
      "Total params: 273,512\n",
      "Trainable params: 273,512\n",
      "Non-trainable params: 0\n",
      "_________________________________________________________________\n"
     ]
    }
   ],
   "source": [
    "model = Sequential()\n",
    "model.add(Input((inp_words, maxWordsCount)))\n",
    "model.add(SimpleRNN(128, activation='tanh'))\n",
    "model.add(Dense(maxWordsCount, activation='softmax'))\n",
    "model.summary()\n",
    " \n",
    "model.compile(loss='categorical_crossentropy', metrics=['accuracy'], optimizer='adam')"
   ]
  },
  {
   "cell_type": "code",
   "execution_count": 52,
   "id": "28816b96-8c8c-487d-8022-4d570a0fffe3",
   "metadata": {},
   "outputs": [
    {
     "name": "stdout",
     "output_type": "stream",
     "text": [
      "Epoch 1/15\n",
      "1/1 [==============================] - 1s 1s/step - loss: 6.9115 - accuracy: 0.0000e+00\n",
      "Epoch 2/15\n",
      "1/1 [==============================] - 0s 10ms/step - loss: 6.8855 - accuracy: 0.0000e+00\n",
      "Epoch 3/15\n",
      "1/1 [==============================] - 0s 11ms/step - loss: 6.8593 - accuracy: 0.0714\n",
      "Epoch 4/15\n",
      "1/1 [==============================] - 0s 11ms/step - loss: 6.8327 - accuracy: 0.1786\n",
      "Epoch 5/15\n",
      "1/1 [==============================] - 0s 12ms/step - loss: 6.8055 - accuracy: 0.3929\n",
      "Epoch 6/15\n",
      "1/1 [==============================] - 0s 12ms/step - loss: 6.7773 - accuracy: 0.5714\n",
      "Epoch 7/15\n",
      "1/1 [==============================] - 0s 12ms/step - loss: 6.7479 - accuracy: 0.8571\n",
      "Epoch 8/15\n",
      "1/1 [==============================] - 0s 12ms/step - loss: 6.7170 - accuracy: 0.9286\n",
      "Epoch 9/15\n",
      "1/1 [==============================] - 0s 11ms/step - loss: 6.6843 - accuracy: 0.9286\n",
      "Epoch 10/15\n",
      "1/1 [==============================] - 0s 10ms/step - loss: 6.6493 - accuracy: 0.9286\n",
      "Epoch 11/15\n",
      "1/1 [==============================] - 0s 10ms/step - loss: 6.6116 - accuracy: 0.9286\n",
      "Epoch 12/15\n",
      "1/1 [==============================] - 0s 12ms/step - loss: 6.5708 - accuracy: 0.9286\n",
      "Epoch 13/15\n",
      "1/1 [==============================] - 0s 10ms/step - loss: 6.5262 - accuracy: 0.9286\n",
      "Epoch 14/15\n",
      "1/1 [==============================] - 0s 10ms/step - loss: 6.4773 - accuracy: 0.9286\n",
      "Epoch 15/15\n",
      "1/1 [==============================] - 0s 10ms/step - loss: 6.4232 - accuracy: 0.9643\n"
     ]
    }
   ],
   "source": [
    "history = model.fit(X, Y, batch_size=32, epochs=15)"
   ]
  },
  {
   "cell_type": "code",
   "execution_count": 128,
   "id": "6608d342-96dd-48ad-9c37-4852d3f1034f",
   "metadata": {},
   "outputs": [],
   "source": [
    "from tensorflow.keras.utils import to_categorical\n",
    "\n",
    "def buildPhrase(phrase, str_len = 20):\n",
    "  res = phrase\n",
    "  data = tokenizer.texts_to_sequences([phrase])[0]\n",
    "  print(data)\n",
    "  for i in range(str_len):\n",
    "    x = to_categorical(data[i: i+inp_words], num_classes=maxWordsCount) # преобразуем в One-Hot-encoding\n",
    "    inp = x.reshape(1, inp_words, maxWordsCount)\n",
    " \n",
    "    pred = model.predict( inp ) # предсказываем OHE четвертого символа\n",
    "    indx = pred.argmax(axis=1)[0]\n",
    "    data.append(indx)\n",
    " \n",
    "    res += \" \" + tokenizer.index_word[indx] # дописываем строку\n",
    " \n",
    "  return res"
   ]
  },
  {
   "cell_type": "code",
   "execution_count": 129,
   "id": "e5946ea0-626c-4a3c-9606-749da83c51d4",
   "metadata": {},
   "outputs": [
    {
     "name": "stdout",
     "output_type": "stream",
     "text": [
      "[1, 2, 3]\n",
      "1/1 [==============================] - 0s 38ms/step\n",
      "1/1 [==============================] - 0s 31ms/step\n",
      "1/1 [==============================] - 0s 28ms/step\n",
      "1/1 [==============================] - 0s 25ms/step\n",
      "1/1 [==============================] - 0s 25ms/step\n",
      "1/1 [==============================] - 0s 22ms/step\n",
      "1/1 [==============================] - 0s 23ms/step\n",
      "1/1 [==============================] - 0s 21ms/step\n",
      "1/1 [==============================] - 0s 21ms/step\n",
      "1/1 [==============================] - 0s 23ms/step\n",
      "1/1 [==============================] - 0s 22ms/step\n",
      "1/1 [==============================] - 0s 22ms/step\n",
      "1/1 [==============================] - 0s 24ms/step\n",
      "1/1 [==============================] - 0s 22ms/step\n",
      "1/1 [==============================] - 0s 24ms/step\n",
      "1/1 [==============================] - 0s 22ms/step\n",
      "1/1 [==============================] - 0s 24ms/step\n",
      "1/1 [==============================] - 0s 26ms/step\n",
      "1/1 [==============================] - 0s 24ms/step\n",
      "1/1 [==============================] - 0s 27ms/step\n",
      "вы в понедельник думайте позитивно и верьте в свою способность достигать отличных результатов если вы смогли в понедельник подняться с постели значит вы\n"
     ]
    }
   ],
   "source": [
    "res = buildPhrase(\"вы в понедельник\")\n",
    "print(res)"
   ]
  }
 ],
 "metadata": {
  "kernelspec": {
   "display_name": "Python 3 (ipykernel)",
   "language": "python",
   "name": "python3"
  },
  "language_info": {
   "codemirror_mode": {
    "name": "ipython",
    "version": 3
   },
   "file_extension": ".py",
   "mimetype": "text/x-python",
   "name": "python",
   "nbconvert_exporter": "python",
   "pygments_lexer": "ipython3",
   "version": "3.9.18"
  }
 },
 "nbformat": 4,
 "nbformat_minor": 5
}
